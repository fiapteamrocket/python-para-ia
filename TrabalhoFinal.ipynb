{
  "nbformat": 4,
  "nbformat_minor": 0,
  "metadata": {
    "kernelspec": {
      "name": "python3",
      "display_name": "Python 3"
    },
    "language_info": {
      "codemirror_mode": {
        "name": "ipython",
        "version": 3
      },
      "file_extension": ".py",
      "mimetype": "text/x-python",
      "name": "python",
      "nbconvert_exporter": "python",
      "pygments_lexer": "ipython3",
      "version": "3.7.3"
    },
    "colab": {
      "name": "PythonIA-TrabalhoFinal.ipynb",
      "provenance": [],
      "collapsed_sections": []
    },
    "accelerator": "GPU"
  },
  "cells": [
    {
      "cell_type": "markdown",
      "metadata": {
        "id": "MpFO-EKnyP1k",
        "colab_type": "text"
      },
      "source": [
        "## Trabalho Final 6IA - Python para IA\n",
        "\n"
      ]
    },
    {
      "cell_type": "markdown",
      "metadata": {
        "id": "PYyRA2iUFScE",
        "colab_type": "text"
      },
      "source": [
        "### **Instalando/Importando Pacotes**"
      ]
    },
    {
      "cell_type": "code",
      "metadata": {
        "id": "xkDjQ2ghyP1e",
        "colab_type": "code",
        "colab": {
          "base_uri": "https://localhost:8080/",
          "height": 204
        },
        "outputId": "6ce9d9f4-dad5-4706-a717-c5b2bd2582a8"
      },
      "source": [
        "!pip install altair"
      ],
      "execution_count": 1,
      "outputs": [
        {
          "output_type": "stream",
          "text": [
            "Requirement already satisfied: altair in /usr/local/lib/python3.6/dist-packages (3.2.0)\n",
            "Requirement already satisfied: pandas in /usr/local/lib/python3.6/dist-packages (from altair) (0.24.2)\n",
            "Requirement already satisfied: jinja2 in /usr/local/lib/python3.6/dist-packages (from altair) (2.10.1)\n",
            "Requirement already satisfied: six in /usr/local/lib/python3.6/dist-packages (from altair) (1.12.0)\n",
            "Requirement already satisfied: toolz in /usr/local/lib/python3.6/dist-packages (from altair) (0.10.0)\n",
            "Requirement already satisfied: jsonschema in /usr/local/lib/python3.6/dist-packages (from altair) (2.6.0)\n",
            "Requirement already satisfied: numpy in /usr/local/lib/python3.6/dist-packages (from altair) (1.16.5)\n",
            "Requirement already satisfied: entrypoints in /usr/local/lib/python3.6/dist-packages (from altair) (0.3)\n",
            "Requirement already satisfied: python-dateutil>=2.5.0 in /usr/local/lib/python3.6/dist-packages (from pandas->altair) (2.5.3)\n",
            "Requirement already satisfied: pytz>=2011k in /usr/local/lib/python3.6/dist-packages (from pandas->altair) (2018.9)\n",
            "Requirement already satisfied: MarkupSafe>=0.23 in /usr/local/lib/python3.6/dist-packages (from jinja2->altair) (1.1.1)\n"
          ],
          "name": "stdout"
        }
      ]
    },
    {
      "cell_type": "code",
      "metadata": {
        "id": "-j7YWtIbyP1i",
        "colab_type": "code",
        "colab": {}
      },
      "source": [
        "from pandas import Series, DataFrame\n",
        "import pandas as pd\n",
        "import matplotlib as mpl\n",
        "import matplotlib.pyplot as plt\n",
        "import numpy as np\n",
        "import altair as alt\n",
        "from datetime import datetime\n",
        "from sklearn.model_selection import train_test_split\n",
        "from sklearn import linear_model\n",
        "from sklearn.metrics import mean_squared_error\n",
        "from sklearn.linear_model import LinearRegression"
      ],
      "execution_count": 0,
      "outputs": []
    },
    {
      "cell_type": "markdown",
      "metadata": {
        "id": "R2KAU61ZyP1l",
        "colab_type": "text"
      },
      "source": [
        "## Exercício 1\n",
        "**Leia o arquivo lemonades.csv usando pandas**"
      ]
    },
    {
      "cell_type": "code",
      "metadata": {
        "id": "2DLfX0DpyP1l",
        "colab_type": "code",
        "outputId": "3cf3c69d-54b8-42d3-d91f-b1b077b35c28",
        "colab": {
          "resources": {
            "http://localhost:8080/nbextensions/google.colab/files.js": {
              "data": "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",
              "ok": true,
              "headers": [
                [
                  "content-type",
                  "application/javascript"
                ]
              ],
              "status": 200,
              "status_text": ""
            }
          },
          "base_uri": "https://localhost:8080/",
          "height": 278
        }
      },
      "source": [
        "#Lendo arquivo no Google Colab\n",
        "from google.colab import files\n",
        "\n",
        "uploaded = files.upload()\n",
        "\n",
        "for fn in uploaded.keys():\n",
        "  print('User uploaded file \"{name}\" with length {length} bytes'.format(name=fn, length=len(uploaded[fn])))\n",
        "  \n",
        "\n",
        "lemonades = pd.read_csv('Lemonades.csv', sep=';')\n",
        "lemonades.head()"
      ],
      "execution_count": 3,
      "outputs": [
        {
          "output_type": "display_data",
          "data": {
            "text/html": [
              "\n",
              "     <input type=\"file\" id=\"files-016ccc19-4c4e-485f-ae65-e1a34234b95a\" name=\"files[]\" multiple disabled />\n",
              "     <output id=\"result-016ccc19-4c4e-485f-ae65-e1a34234b95a\">\n",
              "      Upload widget is only available when the cell has been executed in the\n",
              "      current browser session. Please rerun this cell to enable.\n",
              "      </output>\n",
              "      <script src=\"/nbextensions/google.colab/files.js\"></script> "
            ],
            "text/plain": [
              "<IPython.core.display.HTML object>"
            ]
          },
          "metadata": {
            "tags": []
          }
        },
        {
          "output_type": "stream",
          "text": [
            "Saving Lemonades.csv to Lemonades (7).csv\n",
            "User uploaded file \"Lemonades.csv\" with length 1163 bytes\n"
          ],
          "name": "stdout"
        },
        {
          "output_type": "execute_result",
          "data": {
            "text/html": [
              "<div>\n",
              "<style scoped>\n",
              "    .dataframe tbody tr th:only-of-type {\n",
              "        vertical-align: middle;\n",
              "    }\n",
              "\n",
              "    .dataframe tbody tr th {\n",
              "        vertical-align: top;\n",
              "    }\n",
              "\n",
              "    .dataframe thead th {\n",
              "        text-align: right;\n",
              "    }\n",
              "</style>\n",
              "<table border=\"1\" class=\"dataframe\">\n",
              "  <thead>\n",
              "    <tr style=\"text-align: right;\">\n",
              "      <th></th>\n",
              "      <th>Date</th>\n",
              "      <th>Location</th>\n",
              "      <th>Lemon</th>\n",
              "      <th>Orange</th>\n",
              "      <th>Temperature</th>\n",
              "      <th>Leaflets</th>\n",
              "      <th>Price</th>\n",
              "    </tr>\n",
              "  </thead>\n",
              "  <tbody>\n",
              "    <tr>\n",
              "      <th>0</th>\n",
              "      <td>07/01/2016</td>\n",
              "      <td>Park</td>\n",
              "      <td>97</td>\n",
              "      <td>67</td>\n",
              "      <td>70</td>\n",
              "      <td>90.0</td>\n",
              "      <td>0.25</td>\n",
              "    </tr>\n",
              "    <tr>\n",
              "      <th>1</th>\n",
              "      <td>07/02/2016</td>\n",
              "      <td>Park</td>\n",
              "      <td>98</td>\n",
              "      <td>67</td>\n",
              "      <td>72</td>\n",
              "      <td>90.0</td>\n",
              "      <td>0.25</td>\n",
              "    </tr>\n",
              "    <tr>\n",
              "      <th>2</th>\n",
              "      <td>07/03/2016</td>\n",
              "      <td>Park</td>\n",
              "      <td>110</td>\n",
              "      <td>77</td>\n",
              "      <td>71</td>\n",
              "      <td>104.0</td>\n",
              "      <td>0.25</td>\n",
              "    </tr>\n",
              "    <tr>\n",
              "      <th>3</th>\n",
              "      <td>07/04/2016</td>\n",
              "      <td>Beach</td>\n",
              "      <td>134</td>\n",
              "      <td>99</td>\n",
              "      <td>76</td>\n",
              "      <td>98.0</td>\n",
              "      <td>0.25</td>\n",
              "    </tr>\n",
              "    <tr>\n",
              "      <th>4</th>\n",
              "      <td>07/05/2016</td>\n",
              "      <td>Beach</td>\n",
              "      <td>159</td>\n",
              "      <td>118</td>\n",
              "      <td>78</td>\n",
              "      <td>135.0</td>\n",
              "      <td>0.25</td>\n",
              "    </tr>\n",
              "  </tbody>\n",
              "</table>\n",
              "</div>"
            ],
            "text/plain": [
              "         Date Location  Lemon  Orange  Temperature  Leaflets  Price\n",
              "0  07/01/2016     Park     97      67           70      90.0   0.25\n",
              "1  07/02/2016     Park     98      67           72      90.0   0.25\n",
              "2  07/03/2016     Park    110      77           71     104.0   0.25\n",
              "3  07/04/2016    Beach    134      99           76      98.0   0.25\n",
              "4  07/05/2016    Beach    159     118           78     135.0   0.25"
            ]
          },
          "metadata": {
            "tags": []
          },
          "execution_count": 3
        }
      ]
    },
    {
      "cell_type": "markdown",
      "metadata": {
        "id": "HBJWDE3ByP1n",
        "colab_type": "text"
      },
      "source": [
        "## Exercício 2\n",
        "**Retorne as informações sobre as colunas e as principais estatísticas\n",
        "sobre o dataset.**"
      ]
    },
    {
      "cell_type": "code",
      "metadata": {
        "id": "Od9pa39MyP1o",
        "colab_type": "code",
        "outputId": "1a82dcb9-a529-4f61-a9b7-115f6f8c5105",
        "colab": {
          "base_uri": "https://localhost:8080/",
          "height": 297
        }
      },
      "source": [
        "lemonades.describe()"
      ],
      "execution_count": 4,
      "outputs": [
        {
          "output_type": "execute_result",
          "data": {
            "text/html": [
              "<div>\n",
              "<style scoped>\n",
              "    .dataframe tbody tr th:only-of-type {\n",
              "        vertical-align: middle;\n",
              "    }\n",
              "\n",
              "    .dataframe tbody tr th {\n",
              "        vertical-align: top;\n",
              "    }\n",
              "\n",
              "    .dataframe thead th {\n",
              "        text-align: right;\n",
              "    }\n",
              "</style>\n",
              "<table border=\"1\" class=\"dataframe\">\n",
              "  <thead>\n",
              "    <tr style=\"text-align: right;\">\n",
              "      <th></th>\n",
              "      <th>Lemon</th>\n",
              "      <th>Orange</th>\n",
              "      <th>Temperature</th>\n",
              "      <th>Leaflets</th>\n",
              "      <th>Price</th>\n",
              "    </tr>\n",
              "  </thead>\n",
              "  <tbody>\n",
              "    <tr>\n",
              "      <th>count</th>\n",
              "      <td>32.000000</td>\n",
              "      <td>32.000000</td>\n",
              "      <td>32.000000</td>\n",
              "      <td>31.000000</td>\n",
              "      <td>32.000000</td>\n",
              "    </tr>\n",
              "    <tr>\n",
              "      <th>mean</th>\n",
              "      <td>116.156250</td>\n",
              "      <td>80.000000</td>\n",
              "      <td>78.968750</td>\n",
              "      <td>108.548387</td>\n",
              "      <td>0.354687</td>\n",
              "    </tr>\n",
              "    <tr>\n",
              "      <th>std</th>\n",
              "      <td>25.823357</td>\n",
              "      <td>21.863211</td>\n",
              "      <td>4.067847</td>\n",
              "      <td>20.117718</td>\n",
              "      <td>0.113137</td>\n",
              "    </tr>\n",
              "    <tr>\n",
              "      <th>min</th>\n",
              "      <td>71.000000</td>\n",
              "      <td>42.000000</td>\n",
              "      <td>70.000000</td>\n",
              "      <td>68.000000</td>\n",
              "      <td>0.250000</td>\n",
              "    </tr>\n",
              "    <tr>\n",
              "      <th>25%</th>\n",
              "      <td>98.000000</td>\n",
              "      <td>66.750000</td>\n",
              "      <td>77.000000</td>\n",
              "      <td>90.000000</td>\n",
              "      <td>0.250000</td>\n",
              "    </tr>\n",
              "    <tr>\n",
              "      <th>50%</th>\n",
              "      <td>113.500000</td>\n",
              "      <td>76.500000</td>\n",
              "      <td>80.500000</td>\n",
              "      <td>108.000000</td>\n",
              "      <td>0.350000</td>\n",
              "    </tr>\n",
              "    <tr>\n",
              "      <th>75%</th>\n",
              "      <td>131.750000</td>\n",
              "      <td>95.000000</td>\n",
              "      <td>82.000000</td>\n",
              "      <td>124.000000</td>\n",
              "      <td>0.500000</td>\n",
              "    </tr>\n",
              "    <tr>\n",
              "      <th>max</th>\n",
              "      <td>176.000000</td>\n",
              "      <td>129.000000</td>\n",
              "      <td>84.000000</td>\n",
              "      <td>158.000000</td>\n",
              "      <td>0.500000</td>\n",
              "    </tr>\n",
              "  </tbody>\n",
              "</table>\n",
              "</div>"
            ],
            "text/plain": [
              "            Lemon      Orange  Temperature    Leaflets      Price\n",
              "count   32.000000   32.000000    32.000000   31.000000  32.000000\n",
              "mean   116.156250   80.000000    78.968750  108.548387   0.354687\n",
              "std     25.823357   21.863211     4.067847   20.117718   0.113137\n",
              "min     71.000000   42.000000    70.000000   68.000000   0.250000\n",
              "25%     98.000000   66.750000    77.000000   90.000000   0.250000\n",
              "50%    113.500000   76.500000    80.500000  108.000000   0.350000\n",
              "75%    131.750000   95.000000    82.000000  124.000000   0.500000\n",
              "max    176.000000  129.000000    84.000000  158.000000   0.500000"
            ]
          },
          "metadata": {
            "tags": []
          },
          "execution_count": 4
        }
      ]
    },
    {
      "cell_type": "code",
      "metadata": {
        "id": "VOBXzZxxzZfk",
        "colab_type": "code",
        "colab": {
          "base_uri": "https://localhost:8080/",
          "height": 221
        },
        "outputId": "60182a1a-9ac7-4d82-f0c2-542bf1cb1a44"
      },
      "source": [
        "lemonades.info()"
      ],
      "execution_count": 5,
      "outputs": [
        {
          "output_type": "stream",
          "text": [
            "<class 'pandas.core.frame.DataFrame'>\n",
            "RangeIndex: 32 entries, 0 to 31\n",
            "Data columns (total 7 columns):\n",
            "Date           31 non-null object\n",
            "Location       32 non-null object\n",
            "Lemon          32 non-null int64\n",
            "Orange         32 non-null int64\n",
            "Temperature    32 non-null int64\n",
            "Leaflets       31 non-null float64\n",
            "Price          32 non-null float64\n",
            "dtypes: float64(2), int64(3), object(2)\n",
            "memory usage: 1.8+ KB\n"
          ],
          "name": "stdout"
        }
      ]
    },
    {
      "cell_type": "code",
      "metadata": {
        "id": "yEr8ioWtzb_T",
        "colab_type": "code",
        "outputId": "8ee42b11-1737-48ee-fdf3-a753eba5d9f1",
        "colab": {
          "base_uri": "https://localhost:8080/",
          "height": 153
        }
      },
      "source": [
        "lemonades.dtypes"
      ],
      "execution_count": 6,
      "outputs": [
        {
          "output_type": "execute_result",
          "data": {
            "text/plain": [
              "Date            object\n",
              "Location        object\n",
              "Lemon            int64\n",
              "Orange           int64\n",
              "Temperature      int64\n",
              "Leaflets       float64\n",
              "Price          float64\n",
              "dtype: object"
            ]
          },
          "metadata": {
            "tags": []
          },
          "execution_count": 6
        }
      ]
    },
    {
      "cell_type": "code",
      "metadata": {
        "id": "HcuMrFbBziic",
        "colab_type": "code",
        "colab": {}
      },
      "source": [
        "# Convertendo Date para o formato de DateTime\n",
        "lemonades['Date'] = pd.to_datetime(lemonades['Date'], format='%m/%d/%Y')"
      ],
      "execution_count": 0,
      "outputs": []
    },
    {
      "cell_type": "code",
      "metadata": {
        "id": "EN7ApKpVzpOz",
        "colab_type": "code",
        "outputId": "1b0a6eca-4a43-4c0c-e037-fab6817eebdd",
        "colab": {
          "base_uri": "https://localhost:8080/",
          "height": 153
        }
      },
      "source": [
        "lemonades.dtypes"
      ],
      "execution_count": 8,
      "outputs": [
        {
          "output_type": "execute_result",
          "data": {
            "text/plain": [
              "Date           datetime64[ns]\n",
              "Location               object\n",
              "Lemon                   int64\n",
              "Orange                  int64\n",
              "Temperature             int64\n",
              "Leaflets              float64\n",
              "Price                 float64\n",
              "dtype: object"
            ]
          },
          "metadata": {
            "tags": []
          },
          "execution_count": 8
        }
      ]
    },
    {
      "cell_type": "markdown",
      "metadata": {
        "id": "syOC5_9FyP1q",
        "colab_type": "text"
      },
      "source": [
        "## Exercício 3\n",
        "**Realize a limpeza do dataset:**  \n",
        "1.   Verifique se existe valores nulos  \n",
        "2.   Verifique e remova, se existir, linhas duplicadas \n",
        "3.   Trate os elementos faltantes (interpolação (data) e media)\n",
        "\n"
      ]
    },
    {
      "cell_type": "code",
      "metadata": {
        "id": "gjw0qTLkyP1r",
        "colab_type": "code",
        "outputId": "99deec6c-2c39-41e0-fd51-d3a604ca82dd",
        "colab": {
          "base_uri": "https://localhost:8080/",
          "height": 153
        }
      },
      "source": [
        "lemonades.isnull().sum()"
      ],
      "execution_count": 9,
      "outputs": [
        {
          "output_type": "execute_result",
          "data": {
            "text/plain": [
              "Date           1\n",
              "Location       0\n",
              "Lemon          0\n",
              "Orange         0\n",
              "Temperature    0\n",
              "Leaflets       1\n",
              "Price          0\n",
              "dtype: int64"
            ]
          },
          "metadata": {
            "tags": []
          },
          "execution_count": 9
        }
      ]
    },
    {
      "cell_type": "code",
      "metadata": {
        "id": "OmwCI-8zyP1u",
        "colab_type": "code",
        "outputId": "36fc6edb-ee4c-427d-8f1c-768b80e54d8a",
        "colab": {
          "base_uri": "https://localhost:8080/",
          "height": 578
        }
      },
      "source": [
        "lemonades.duplicated()"
      ],
      "execution_count": 10,
      "outputs": [
        {
          "output_type": "execute_result",
          "data": {
            "text/plain": [
              "0     False\n",
              "1     False\n",
              "2     False\n",
              "3     False\n",
              "4     False\n",
              "5     False\n",
              "6      True\n",
              "7     False\n",
              "8     False\n",
              "9     False\n",
              "10    False\n",
              "11    False\n",
              "12    False\n",
              "13    False\n",
              "14    False\n",
              "15    False\n",
              "16    False\n",
              "17    False\n",
              "18    False\n",
              "19    False\n",
              "20    False\n",
              "21    False\n",
              "22    False\n",
              "23    False\n",
              "24    False\n",
              "25    False\n",
              "26    False\n",
              "27    False\n",
              "28    False\n",
              "29    False\n",
              "30    False\n",
              "31    False\n",
              "dtype: bool"
            ]
          },
          "metadata": {
            "tags": []
          },
          "execution_count": 10
        }
      ]
    },
    {
      "cell_type": "code",
      "metadata": {
        "id": "7NwPh-aKyP1y",
        "colab_type": "code",
        "colab": {}
      },
      "source": [
        "lemonades.drop_duplicates(inplace=True)"
      ],
      "execution_count": 0,
      "outputs": []
    },
    {
      "cell_type": "code",
      "metadata": {
        "id": "jPv9mDTE9CcY",
        "colab_type": "code",
        "outputId": "9dad115b-dd50-4460-eb04-48253dce2c47",
        "colab": {
          "base_uri": "https://localhost:8080/",
          "height": 359
        }
      },
      "source": [
        "lemonades = lemonades.reset_index(drop=True)\n",
        "lemonades.head(10)"
      ],
      "execution_count": 12,
      "outputs": [
        {
          "output_type": "execute_result",
          "data": {
            "text/html": [
              "<div>\n",
              "<style scoped>\n",
              "    .dataframe tbody tr th:only-of-type {\n",
              "        vertical-align: middle;\n",
              "    }\n",
              "\n",
              "    .dataframe tbody tr th {\n",
              "        vertical-align: top;\n",
              "    }\n",
              "\n",
              "    .dataframe thead th {\n",
              "        text-align: right;\n",
              "    }\n",
              "</style>\n",
              "<table border=\"1\" class=\"dataframe\">\n",
              "  <thead>\n",
              "    <tr style=\"text-align: right;\">\n",
              "      <th></th>\n",
              "      <th>Date</th>\n",
              "      <th>Location</th>\n",
              "      <th>Lemon</th>\n",
              "      <th>Orange</th>\n",
              "      <th>Temperature</th>\n",
              "      <th>Leaflets</th>\n",
              "      <th>Price</th>\n",
              "    </tr>\n",
              "  </thead>\n",
              "  <tbody>\n",
              "    <tr>\n",
              "      <th>0</th>\n",
              "      <td>2016-07-01</td>\n",
              "      <td>Park</td>\n",
              "      <td>97</td>\n",
              "      <td>67</td>\n",
              "      <td>70</td>\n",
              "      <td>90.0</td>\n",
              "      <td>0.25</td>\n",
              "    </tr>\n",
              "    <tr>\n",
              "      <th>1</th>\n",
              "      <td>2016-07-02</td>\n",
              "      <td>Park</td>\n",
              "      <td>98</td>\n",
              "      <td>67</td>\n",
              "      <td>72</td>\n",
              "      <td>90.0</td>\n",
              "      <td>0.25</td>\n",
              "    </tr>\n",
              "    <tr>\n",
              "      <th>2</th>\n",
              "      <td>2016-07-03</td>\n",
              "      <td>Park</td>\n",
              "      <td>110</td>\n",
              "      <td>77</td>\n",
              "      <td>71</td>\n",
              "      <td>104.0</td>\n",
              "      <td>0.25</td>\n",
              "    </tr>\n",
              "    <tr>\n",
              "      <th>3</th>\n",
              "      <td>2016-07-04</td>\n",
              "      <td>Beach</td>\n",
              "      <td>134</td>\n",
              "      <td>99</td>\n",
              "      <td>76</td>\n",
              "      <td>98.0</td>\n",
              "      <td>0.25</td>\n",
              "    </tr>\n",
              "    <tr>\n",
              "      <th>4</th>\n",
              "      <td>2016-07-05</td>\n",
              "      <td>Beach</td>\n",
              "      <td>159</td>\n",
              "      <td>118</td>\n",
              "      <td>78</td>\n",
              "      <td>135.0</td>\n",
              "      <td>0.25</td>\n",
              "    </tr>\n",
              "    <tr>\n",
              "      <th>5</th>\n",
              "      <td>2016-07-06</td>\n",
              "      <td>Beach</td>\n",
              "      <td>103</td>\n",
              "      <td>69</td>\n",
              "      <td>82</td>\n",
              "      <td>90.0</td>\n",
              "      <td>0.25</td>\n",
              "    </tr>\n",
              "    <tr>\n",
              "      <th>6</th>\n",
              "      <td>2016-07-07</td>\n",
              "      <td>Beach</td>\n",
              "      <td>143</td>\n",
              "      <td>101</td>\n",
              "      <td>81</td>\n",
              "      <td>135.0</td>\n",
              "      <td>0.25</td>\n",
              "    </tr>\n",
              "    <tr>\n",
              "      <th>7</th>\n",
              "      <td>NaT</td>\n",
              "      <td>Beach</td>\n",
              "      <td>123</td>\n",
              "      <td>86</td>\n",
              "      <td>82</td>\n",
              "      <td>113.0</td>\n",
              "      <td>0.25</td>\n",
              "    </tr>\n",
              "    <tr>\n",
              "      <th>8</th>\n",
              "      <td>2016-07-09</td>\n",
              "      <td>Beach</td>\n",
              "      <td>134</td>\n",
              "      <td>95</td>\n",
              "      <td>80</td>\n",
              "      <td>126.0</td>\n",
              "      <td>0.25</td>\n",
              "    </tr>\n",
              "    <tr>\n",
              "      <th>9</th>\n",
              "      <td>2016-07-10</td>\n",
              "      <td>Beach</td>\n",
              "      <td>140</td>\n",
              "      <td>98</td>\n",
              "      <td>82</td>\n",
              "      <td>131.0</td>\n",
              "      <td>0.25</td>\n",
              "    </tr>\n",
              "  </tbody>\n",
              "</table>\n",
              "</div>"
            ],
            "text/plain": [
              "        Date Location  Lemon  Orange  Temperature  Leaflets  Price\n",
              "0 2016-07-01     Park     97      67           70      90.0   0.25\n",
              "1 2016-07-02     Park     98      67           72      90.0   0.25\n",
              "2 2016-07-03     Park    110      77           71     104.0   0.25\n",
              "3 2016-07-04    Beach    134      99           76      98.0   0.25\n",
              "4 2016-07-05    Beach    159     118           78     135.0   0.25\n",
              "5 2016-07-06    Beach    103      69           82      90.0   0.25\n",
              "6 2016-07-07    Beach    143     101           81     135.0   0.25\n",
              "7        NaT    Beach    123      86           82     113.0   0.25\n",
              "8 2016-07-09    Beach    134      95           80     126.0   0.25\n",
              "9 2016-07-10    Beach    140      98           82     131.0   0.25"
            ]
          },
          "metadata": {
            "tags": []
          },
          "execution_count": 12
        }
      ]
    },
    {
      "cell_type": "code",
      "metadata": {
        "id": "hc_oAkdyyP11",
        "colab_type": "code",
        "colab": {}
      },
      "source": [
        "lemonades['Leaflets'] = lemonades['Leaflets'].fillna(lemonades['Leaflets'].mean())"
      ],
      "execution_count": 0,
      "outputs": []
    },
    {
      "cell_type": "code",
      "metadata": {
        "id": "VOSSvE6yyP14",
        "colab_type": "code",
        "outputId": "13717580-3b39-4858-b79b-04046561f33f",
        "colab": {
          "base_uri": "https://localhost:8080/",
          "height": 153
        }
      },
      "source": [
        "lemonades.isnull().sum()"
      ],
      "execution_count": 14,
      "outputs": [
        {
          "output_type": "execute_result",
          "data": {
            "text/plain": [
              "Date           1\n",
              "Location       0\n",
              "Lemon          0\n",
              "Orange         0\n",
              "Temperature    0\n",
              "Leaflets       0\n",
              "Price          0\n",
              "dtype: int64"
            ]
          },
          "metadata": {
            "tags": []
          },
          "execution_count": 14
        }
      ]
    },
    {
      "cell_type": "code",
      "metadata": {
        "id": "jGRFIWvvz-bL",
        "colab_type": "code",
        "outputId": "0964b2a1-afaa-46de-e5d4-7315ab33a034",
        "colab": {
          "base_uri": "https://localhost:8080/",
          "height": 359
        }
      },
      "source": [
        "tmp = lemonades['Date'].apply(lambda t: (t-datetime(1970,1,1)).total_seconds())\n",
        "tmp.interpolate(inplace=True) \n",
        "lemonades['Date'] = pd.to_datetime(tmp, unit='s') \n",
        "lemonades['Date'] = lemonades['Date'].apply(lambda t: t.date())\n",
        "lemonades['Date'] = pd.to_datetime(lemonades['Date'], format='%Y-%m-%d')\n",
        "lemonades.head(10)"
      ],
      "execution_count": 15,
      "outputs": [
        {
          "output_type": "execute_result",
          "data": {
            "text/html": [
              "<div>\n",
              "<style scoped>\n",
              "    .dataframe tbody tr th:only-of-type {\n",
              "        vertical-align: middle;\n",
              "    }\n",
              "\n",
              "    .dataframe tbody tr th {\n",
              "        vertical-align: top;\n",
              "    }\n",
              "\n",
              "    .dataframe thead th {\n",
              "        text-align: right;\n",
              "    }\n",
              "</style>\n",
              "<table border=\"1\" class=\"dataframe\">\n",
              "  <thead>\n",
              "    <tr style=\"text-align: right;\">\n",
              "      <th></th>\n",
              "      <th>Date</th>\n",
              "      <th>Location</th>\n",
              "      <th>Lemon</th>\n",
              "      <th>Orange</th>\n",
              "      <th>Temperature</th>\n",
              "      <th>Leaflets</th>\n",
              "      <th>Price</th>\n",
              "    </tr>\n",
              "  </thead>\n",
              "  <tbody>\n",
              "    <tr>\n",
              "      <th>0</th>\n",
              "      <td>2016-07-01</td>\n",
              "      <td>Park</td>\n",
              "      <td>97</td>\n",
              "      <td>67</td>\n",
              "      <td>70</td>\n",
              "      <td>90.0</td>\n",
              "      <td>0.25</td>\n",
              "    </tr>\n",
              "    <tr>\n",
              "      <th>1</th>\n",
              "      <td>2016-07-02</td>\n",
              "      <td>Park</td>\n",
              "      <td>98</td>\n",
              "      <td>67</td>\n",
              "      <td>72</td>\n",
              "      <td>90.0</td>\n",
              "      <td>0.25</td>\n",
              "    </tr>\n",
              "    <tr>\n",
              "      <th>2</th>\n",
              "      <td>2016-07-03</td>\n",
              "      <td>Park</td>\n",
              "      <td>110</td>\n",
              "      <td>77</td>\n",
              "      <td>71</td>\n",
              "      <td>104.0</td>\n",
              "      <td>0.25</td>\n",
              "    </tr>\n",
              "    <tr>\n",
              "      <th>3</th>\n",
              "      <td>2016-07-04</td>\n",
              "      <td>Beach</td>\n",
              "      <td>134</td>\n",
              "      <td>99</td>\n",
              "      <td>76</td>\n",
              "      <td>98.0</td>\n",
              "      <td>0.25</td>\n",
              "    </tr>\n",
              "    <tr>\n",
              "      <th>4</th>\n",
              "      <td>2016-07-05</td>\n",
              "      <td>Beach</td>\n",
              "      <td>159</td>\n",
              "      <td>118</td>\n",
              "      <td>78</td>\n",
              "      <td>135.0</td>\n",
              "      <td>0.25</td>\n",
              "    </tr>\n",
              "    <tr>\n",
              "      <th>5</th>\n",
              "      <td>2016-07-06</td>\n",
              "      <td>Beach</td>\n",
              "      <td>103</td>\n",
              "      <td>69</td>\n",
              "      <td>82</td>\n",
              "      <td>90.0</td>\n",
              "      <td>0.25</td>\n",
              "    </tr>\n",
              "    <tr>\n",
              "      <th>6</th>\n",
              "      <td>2016-07-07</td>\n",
              "      <td>Beach</td>\n",
              "      <td>143</td>\n",
              "      <td>101</td>\n",
              "      <td>81</td>\n",
              "      <td>135.0</td>\n",
              "      <td>0.25</td>\n",
              "    </tr>\n",
              "    <tr>\n",
              "      <th>7</th>\n",
              "      <td>2016-07-08</td>\n",
              "      <td>Beach</td>\n",
              "      <td>123</td>\n",
              "      <td>86</td>\n",
              "      <td>82</td>\n",
              "      <td>113.0</td>\n",
              "      <td>0.25</td>\n",
              "    </tr>\n",
              "    <tr>\n",
              "      <th>8</th>\n",
              "      <td>2016-07-09</td>\n",
              "      <td>Beach</td>\n",
              "      <td>134</td>\n",
              "      <td>95</td>\n",
              "      <td>80</td>\n",
              "      <td>126.0</td>\n",
              "      <td>0.25</td>\n",
              "    </tr>\n",
              "    <tr>\n",
              "      <th>9</th>\n",
              "      <td>2016-07-10</td>\n",
              "      <td>Beach</td>\n",
              "      <td>140</td>\n",
              "      <td>98</td>\n",
              "      <td>82</td>\n",
              "      <td>131.0</td>\n",
              "      <td>0.25</td>\n",
              "    </tr>\n",
              "  </tbody>\n",
              "</table>\n",
              "</div>"
            ],
            "text/plain": [
              "        Date Location  Lemon  Orange  Temperature  Leaflets  Price\n",
              "0 2016-07-01     Park     97      67           70      90.0   0.25\n",
              "1 2016-07-02     Park     98      67           72      90.0   0.25\n",
              "2 2016-07-03     Park    110      77           71     104.0   0.25\n",
              "3 2016-07-04    Beach    134      99           76      98.0   0.25\n",
              "4 2016-07-05    Beach    159     118           78     135.0   0.25\n",
              "5 2016-07-06    Beach    103      69           82      90.0   0.25\n",
              "6 2016-07-07    Beach    143     101           81     135.0   0.25\n",
              "7 2016-07-08    Beach    123      86           82     113.0   0.25\n",
              "8 2016-07-09    Beach    134      95           80     126.0   0.25\n",
              "9 2016-07-10    Beach    140      98           82     131.0   0.25"
            ]
          },
          "metadata": {
            "tags": []
          },
          "execution_count": 15
        }
      ]
    },
    {
      "cell_type": "markdown",
      "metadata": {
        "id": "fu88CR1_yP17",
        "colab_type": "text"
      },
      "source": [
        "# Exercício 4\n",
        "**Adicione uma coluna chamada \"Sales\" que contém o total de\n",
        "vendas de limão e laranja**"
      ]
    },
    {
      "cell_type": "code",
      "metadata": {
        "id": "yIx2MNUnyP18",
        "colab_type": "code",
        "outputId": "d7110bb9-375b-421f-c070-1554a47f22ed",
        "colab": {
          "base_uri": "https://localhost:8080/",
          "height": 204
        }
      },
      "source": [
        "lemonades['Sales'] = lemonades['Orange'] + lemonades['Lemon']\n",
        "lemonades.head()"
      ],
      "execution_count": 16,
      "outputs": [
        {
          "output_type": "execute_result",
          "data": {
            "text/html": [
              "<div>\n",
              "<style scoped>\n",
              "    .dataframe tbody tr th:only-of-type {\n",
              "        vertical-align: middle;\n",
              "    }\n",
              "\n",
              "    .dataframe tbody tr th {\n",
              "        vertical-align: top;\n",
              "    }\n",
              "\n",
              "    .dataframe thead th {\n",
              "        text-align: right;\n",
              "    }\n",
              "</style>\n",
              "<table border=\"1\" class=\"dataframe\">\n",
              "  <thead>\n",
              "    <tr style=\"text-align: right;\">\n",
              "      <th></th>\n",
              "      <th>Date</th>\n",
              "      <th>Location</th>\n",
              "      <th>Lemon</th>\n",
              "      <th>Orange</th>\n",
              "      <th>Temperature</th>\n",
              "      <th>Leaflets</th>\n",
              "      <th>Price</th>\n",
              "      <th>Sales</th>\n",
              "    </tr>\n",
              "  </thead>\n",
              "  <tbody>\n",
              "    <tr>\n",
              "      <th>0</th>\n",
              "      <td>2016-07-01</td>\n",
              "      <td>Park</td>\n",
              "      <td>97</td>\n",
              "      <td>67</td>\n",
              "      <td>70</td>\n",
              "      <td>90.0</td>\n",
              "      <td>0.25</td>\n",
              "      <td>164</td>\n",
              "    </tr>\n",
              "    <tr>\n",
              "      <th>1</th>\n",
              "      <td>2016-07-02</td>\n",
              "      <td>Park</td>\n",
              "      <td>98</td>\n",
              "      <td>67</td>\n",
              "      <td>72</td>\n",
              "      <td>90.0</td>\n",
              "      <td>0.25</td>\n",
              "      <td>165</td>\n",
              "    </tr>\n",
              "    <tr>\n",
              "      <th>2</th>\n",
              "      <td>2016-07-03</td>\n",
              "      <td>Park</td>\n",
              "      <td>110</td>\n",
              "      <td>77</td>\n",
              "      <td>71</td>\n",
              "      <td>104.0</td>\n",
              "      <td>0.25</td>\n",
              "      <td>187</td>\n",
              "    </tr>\n",
              "    <tr>\n",
              "      <th>3</th>\n",
              "      <td>2016-07-04</td>\n",
              "      <td>Beach</td>\n",
              "      <td>134</td>\n",
              "      <td>99</td>\n",
              "      <td>76</td>\n",
              "      <td>98.0</td>\n",
              "      <td>0.25</td>\n",
              "      <td>233</td>\n",
              "    </tr>\n",
              "    <tr>\n",
              "      <th>4</th>\n",
              "      <td>2016-07-05</td>\n",
              "      <td>Beach</td>\n",
              "      <td>159</td>\n",
              "      <td>118</td>\n",
              "      <td>78</td>\n",
              "      <td>135.0</td>\n",
              "      <td>0.25</td>\n",
              "      <td>277</td>\n",
              "    </tr>\n",
              "  </tbody>\n",
              "</table>\n",
              "</div>"
            ],
            "text/plain": [
              "        Date Location  Lemon  Orange  Temperature  Leaflets  Price  Sales\n",
              "0 2016-07-01     Park     97      67           70      90.0   0.25    164\n",
              "1 2016-07-02     Park     98      67           72      90.0   0.25    165\n",
              "2 2016-07-03     Park    110      77           71     104.0   0.25    187\n",
              "3 2016-07-04    Beach    134      99           76      98.0   0.25    233\n",
              "4 2016-07-05    Beach    159     118           78     135.0   0.25    277"
            ]
          },
          "metadata": {
            "tags": []
          },
          "execution_count": 16
        }
      ]
    },
    {
      "cell_type": "markdown",
      "metadata": {
        "id": "RmOISXBHyP1-",
        "colab_type": "text"
      },
      "source": [
        "# Exercício 5\n",
        "**Adicione uma coluna chamada \"Revenue\" que calcula o lucro\n",
        "(venda*preço)**"
      ]
    },
    {
      "cell_type": "code",
      "metadata": {
        "id": "n9jsDNjdyP1-",
        "colab_type": "code",
        "outputId": "0ce468b3-dfd8-4c41-fab6-d8ceb94e2c62",
        "colab": {
          "base_uri": "https://localhost:8080/",
          "height": 204
        }
      },
      "source": [
        "lemonades['Revenue'] = lemonades['Sales'] * lemonades['Price']\n",
        "lemonades.head()"
      ],
      "execution_count": 17,
      "outputs": [
        {
          "output_type": "execute_result",
          "data": {
            "text/html": [
              "<div>\n",
              "<style scoped>\n",
              "    .dataframe tbody tr th:only-of-type {\n",
              "        vertical-align: middle;\n",
              "    }\n",
              "\n",
              "    .dataframe tbody tr th {\n",
              "        vertical-align: top;\n",
              "    }\n",
              "\n",
              "    .dataframe thead th {\n",
              "        text-align: right;\n",
              "    }\n",
              "</style>\n",
              "<table border=\"1\" class=\"dataframe\">\n",
              "  <thead>\n",
              "    <tr style=\"text-align: right;\">\n",
              "      <th></th>\n",
              "      <th>Date</th>\n",
              "      <th>Location</th>\n",
              "      <th>Lemon</th>\n",
              "      <th>Orange</th>\n",
              "      <th>Temperature</th>\n",
              "      <th>Leaflets</th>\n",
              "      <th>Price</th>\n",
              "      <th>Sales</th>\n",
              "      <th>Revenue</th>\n",
              "    </tr>\n",
              "  </thead>\n",
              "  <tbody>\n",
              "    <tr>\n",
              "      <th>0</th>\n",
              "      <td>2016-07-01</td>\n",
              "      <td>Park</td>\n",
              "      <td>97</td>\n",
              "      <td>67</td>\n",
              "      <td>70</td>\n",
              "      <td>90.0</td>\n",
              "      <td>0.25</td>\n",
              "      <td>164</td>\n",
              "      <td>41.00</td>\n",
              "    </tr>\n",
              "    <tr>\n",
              "      <th>1</th>\n",
              "      <td>2016-07-02</td>\n",
              "      <td>Park</td>\n",
              "      <td>98</td>\n",
              "      <td>67</td>\n",
              "      <td>72</td>\n",
              "      <td>90.0</td>\n",
              "      <td>0.25</td>\n",
              "      <td>165</td>\n",
              "      <td>41.25</td>\n",
              "    </tr>\n",
              "    <tr>\n",
              "      <th>2</th>\n",
              "      <td>2016-07-03</td>\n",
              "      <td>Park</td>\n",
              "      <td>110</td>\n",
              "      <td>77</td>\n",
              "      <td>71</td>\n",
              "      <td>104.0</td>\n",
              "      <td>0.25</td>\n",
              "      <td>187</td>\n",
              "      <td>46.75</td>\n",
              "    </tr>\n",
              "    <tr>\n",
              "      <th>3</th>\n",
              "      <td>2016-07-04</td>\n",
              "      <td>Beach</td>\n",
              "      <td>134</td>\n",
              "      <td>99</td>\n",
              "      <td>76</td>\n",
              "      <td>98.0</td>\n",
              "      <td>0.25</td>\n",
              "      <td>233</td>\n",
              "      <td>58.25</td>\n",
              "    </tr>\n",
              "    <tr>\n",
              "      <th>4</th>\n",
              "      <td>2016-07-05</td>\n",
              "      <td>Beach</td>\n",
              "      <td>159</td>\n",
              "      <td>118</td>\n",
              "      <td>78</td>\n",
              "      <td>135.0</td>\n",
              "      <td>0.25</td>\n",
              "      <td>277</td>\n",
              "      <td>69.25</td>\n",
              "    </tr>\n",
              "  </tbody>\n",
              "</table>\n",
              "</div>"
            ],
            "text/plain": [
              "        Date Location  Lemon  Orange  ...  Leaflets  Price  Sales  Revenue\n",
              "0 2016-07-01     Park     97      67  ...      90.0   0.25    164    41.00\n",
              "1 2016-07-02     Park     98      67  ...      90.0   0.25    165    41.25\n",
              "2 2016-07-03     Park    110      77  ...     104.0   0.25    187    46.75\n",
              "3 2016-07-04    Beach    134      99  ...      98.0   0.25    233    58.25\n",
              "4 2016-07-05    Beach    159     118  ...     135.0   0.25    277    69.25\n",
              "\n",
              "[5 rows x 9 columns]"
            ]
          },
          "metadata": {
            "tags": []
          },
          "execution_count": 17
        }
      ]
    },
    {
      "cell_type": "markdown",
      "metadata": {
        "id": "KMZg4iTYyP2A",
        "colab_type": "text"
      },
      "source": [
        "# Exercício 6\n",
        "**Escreva uma função que retorne o lucro total**\n"
      ]
    },
    {
      "cell_type": "code",
      "metadata": {
        "id": "Zf8_-3YgyP2B",
        "colab_type": "code",
        "outputId": "2b7e127d-df17-4d94-842b-6a2adc50c0d1",
        "colab": {
          "base_uri": "https://localhost:8080/",
          "height": 34
        }
      },
      "source": [
        "def get_total_profit():\n",
        "    return lemonades['Revenue'].sum()\n",
        "\n",
        "get_total_profit()"
      ],
      "execution_count": 18,
      "outputs": [
        {
          "output_type": "execute_result",
          "data": {
            "text/plain": [
              "2138.0"
            ]
          },
          "metadata": {
            "tags": []
          },
          "execution_count": 18
        }
      ]
    },
    {
      "cell_type": "markdown",
      "metadata": {
        "id": "hri5e4t0yP2D",
        "colab_type": "text"
      },
      "source": [
        "# Exercício 7\n",
        "\n",
        "**Escreva uma função que receba dois parâmetros, dataset e\n",
        "temp(int). Se temp for 1, ele retorna a máxima temperatura\n",
        "observada no conjunto de dados; se 0, retorna a média do período\n",
        "observado; se -1, retorna a temperatura mínima.**"
      ]
    },
    {
      "cell_type": "code",
      "metadata": {
        "id": "p3JcDSO7yP2D",
        "colab_type": "code",
        "outputId": "04b01eff-64b2-44e5-e9a5-0bde342b8370",
        "colab": {
          "base_uri": "https://localhost:8080/",
          "height": 68
        }
      },
      "source": [
        "def process_temp(dataset, temp):\n",
        "    if temp == 1:\n",
        "        return dataset['Temperature'].max()\n",
        "    elif temp == 0:\n",
        "        return dataset['Temperature'].mean()\n",
        "    elif temp == -1:\n",
        "        return dataset['Temperature'].min()\n",
        "    else:\n",
        "        raise ValueError(f\"Invalid Temp:{temp}\")\n",
        "\n",
        "print(f'Max: {process_temp(lemonades, 1)}')\n",
        "print(f'Mean: {process_temp(lemonades, 0)}')\n",
        "print(f'Min: {process_temp(lemonades, -1)}')"
      ],
      "execution_count": 19,
      "outputs": [
        {
          "output_type": "stream",
          "text": [
            "Max: 84\n",
            "Mean: 78.87096774193549\n",
            "Min: 70\n"
          ],
          "name": "stdout"
        }
      ]
    },
    {
      "cell_type": "markdown",
      "metadata": {
        "id": "KxSt5cNxyP2F",
        "colab_type": "text"
      },
      "source": [
        "# Exercício 8\n",
        "\n",
        "**Escreva uma função que receba dois parâmetros (dataset,\n",
        "localização) e retorne o dataset com o preço do limão e laranja\n",
        "ajustados em 15% se a localização for 'Park' ou ajustados em 10% se\n",
        "a localização for 'Beach'.**\n",
        "\n",
        "\n"
      ]
    },
    {
      "cell_type": "code",
      "metadata": {
        "id": "iQm_t6yOyP2G",
        "colab_type": "code",
        "outputId": "6174b35b-6311-4c67-cac1-54b9160e6e39",
        "colab": {
          "base_uri": "https://localhost:8080/",
          "height": 204
        }
      },
      "source": [
        "def adjust_price(row, local):\n",
        "    prices = {\n",
        "        'Park': 0.15,\n",
        "        'Beach': 0.10\n",
        "    }\n",
        "    if row['Location'] == local:\n",
        "        return row['Price'] * (1 + prices[local])\n",
        "    else:\n",
        "        return row['Price']\n",
        "\n",
        "def apply_price(dataset, local):\n",
        "    dataset['Price'] = dataset.apply(lambda x: adjust_price(x, local), axis=1)\n",
        "    return dataset\n",
        "\n",
        "lemonades = apply_price(lemonades, 'Beach')\n",
        "lemonades = apply_price(lemonades, 'Park')\n",
        "lemonades.head()"
      ],
      "execution_count": 20,
      "outputs": [
        {
          "output_type": "execute_result",
          "data": {
            "text/html": [
              "<div>\n",
              "<style scoped>\n",
              "    .dataframe tbody tr th:only-of-type {\n",
              "        vertical-align: middle;\n",
              "    }\n",
              "\n",
              "    .dataframe tbody tr th {\n",
              "        vertical-align: top;\n",
              "    }\n",
              "\n",
              "    .dataframe thead th {\n",
              "        text-align: right;\n",
              "    }\n",
              "</style>\n",
              "<table border=\"1\" class=\"dataframe\">\n",
              "  <thead>\n",
              "    <tr style=\"text-align: right;\">\n",
              "      <th></th>\n",
              "      <th>Date</th>\n",
              "      <th>Location</th>\n",
              "      <th>Lemon</th>\n",
              "      <th>Orange</th>\n",
              "      <th>Temperature</th>\n",
              "      <th>Leaflets</th>\n",
              "      <th>Price</th>\n",
              "      <th>Sales</th>\n",
              "      <th>Revenue</th>\n",
              "    </tr>\n",
              "  </thead>\n",
              "  <tbody>\n",
              "    <tr>\n",
              "      <th>0</th>\n",
              "      <td>2016-07-01</td>\n",
              "      <td>Park</td>\n",
              "      <td>97</td>\n",
              "      <td>67</td>\n",
              "      <td>70</td>\n",
              "      <td>90.0</td>\n",
              "      <td>0.2875</td>\n",
              "      <td>164</td>\n",
              "      <td>41.00</td>\n",
              "    </tr>\n",
              "    <tr>\n",
              "      <th>1</th>\n",
              "      <td>2016-07-02</td>\n",
              "      <td>Park</td>\n",
              "      <td>98</td>\n",
              "      <td>67</td>\n",
              "      <td>72</td>\n",
              "      <td>90.0</td>\n",
              "      <td>0.2875</td>\n",
              "      <td>165</td>\n",
              "      <td>41.25</td>\n",
              "    </tr>\n",
              "    <tr>\n",
              "      <th>2</th>\n",
              "      <td>2016-07-03</td>\n",
              "      <td>Park</td>\n",
              "      <td>110</td>\n",
              "      <td>77</td>\n",
              "      <td>71</td>\n",
              "      <td>104.0</td>\n",
              "      <td>0.2875</td>\n",
              "      <td>187</td>\n",
              "      <td>46.75</td>\n",
              "    </tr>\n",
              "    <tr>\n",
              "      <th>3</th>\n",
              "      <td>2016-07-04</td>\n",
              "      <td>Beach</td>\n",
              "      <td>134</td>\n",
              "      <td>99</td>\n",
              "      <td>76</td>\n",
              "      <td>98.0</td>\n",
              "      <td>0.2750</td>\n",
              "      <td>233</td>\n",
              "      <td>58.25</td>\n",
              "    </tr>\n",
              "    <tr>\n",
              "      <th>4</th>\n",
              "      <td>2016-07-05</td>\n",
              "      <td>Beach</td>\n",
              "      <td>159</td>\n",
              "      <td>118</td>\n",
              "      <td>78</td>\n",
              "      <td>135.0</td>\n",
              "      <td>0.2750</td>\n",
              "      <td>277</td>\n",
              "      <td>69.25</td>\n",
              "    </tr>\n",
              "  </tbody>\n",
              "</table>\n",
              "</div>"
            ],
            "text/plain": [
              "        Date Location  Lemon  Orange  ...  Leaflets   Price  Sales  Revenue\n",
              "0 2016-07-01     Park     97      67  ...      90.0  0.2875    164    41.00\n",
              "1 2016-07-02     Park     98      67  ...      90.0  0.2875    165    41.25\n",
              "2 2016-07-03     Park    110      77  ...     104.0  0.2875    187    46.75\n",
              "3 2016-07-04    Beach    134      99  ...      98.0  0.2750    233    58.25\n",
              "4 2016-07-05    Beach    159     118  ...     135.0  0.2750    277    69.25\n",
              "\n",
              "[5 rows x 9 columns]"
            ]
          },
          "metadata": {
            "tags": []
          },
          "execution_count": 20
        }
      ]
    },
    {
      "cell_type": "markdown",
      "metadata": {
        "id": "d-3scP9fyP2I",
        "colab_type": "text"
      },
      "source": [
        "# Exercício 9\n",
        "\n",
        "**Escreva uma função que receba o dataset como parâmetro e\n",
        "retorne o dataset com uma coluna a mais que mostre o rank de\n",
        "temperatura. O dataset retornado precisa estar ordenado de\n",
        "acordo com rank (descendente)**\n"
      ]
    },
    {
      "cell_type": "code",
      "metadata": {
        "id": "-xPUxE5jyP2I",
        "colab_type": "code",
        "outputId": "e8a14392-26f6-41da-9c62-cec5fb0a65b4",
        "colab": {
          "base_uri": "https://localhost:8080/",
          "height": 204
        }
      },
      "source": [
        "def set_rank(dataset):\n",
        "    dataset['Rank'] = dataset['Temperature'].rank(ascending=True)\n",
        "    dataset = dataset.sort_values(by='Rank', ascending=False)\n",
        "    return dataset\n",
        "\n",
        "lemonades = set_rank(lemonades)\n",
        "lemonades.head()"
      ],
      "execution_count": 21,
      "outputs": [
        {
          "output_type": "execute_result",
          "data": {
            "text/html": [
              "<div>\n",
              "<style scoped>\n",
              "    .dataframe tbody tr th:only-of-type {\n",
              "        vertical-align: middle;\n",
              "    }\n",
              "\n",
              "    .dataframe tbody tr th {\n",
              "        vertical-align: top;\n",
              "    }\n",
              "\n",
              "    .dataframe thead th {\n",
              "        text-align: right;\n",
              "    }\n",
              "</style>\n",
              "<table border=\"1\" class=\"dataframe\">\n",
              "  <thead>\n",
              "    <tr style=\"text-align: right;\">\n",
              "      <th></th>\n",
              "      <th>Date</th>\n",
              "      <th>Location</th>\n",
              "      <th>Lemon</th>\n",
              "      <th>Orange</th>\n",
              "      <th>Temperature</th>\n",
              "      <th>Leaflets</th>\n",
              "      <th>Price</th>\n",
              "      <th>Sales</th>\n",
              "      <th>Revenue</th>\n",
              "      <th>Rank</th>\n",
              "    </tr>\n",
              "  </thead>\n",
              "  <tbody>\n",
              "    <tr>\n",
              "      <th>24</th>\n",
              "      <td>2016-07-25</td>\n",
              "      <td>Park</td>\n",
              "      <td>156</td>\n",
              "      <td>113</td>\n",
              "      <td>84</td>\n",
              "      <td>135.0</td>\n",
              "      <td>0.5750</td>\n",
              "      <td>269</td>\n",
              "      <td>134.50</td>\n",
              "      <td>30.5</td>\n",
              "    </tr>\n",
              "    <tr>\n",
              "      <th>11</th>\n",
              "      <td>2016-07-12</td>\n",
              "      <td>Beach</td>\n",
              "      <td>130</td>\n",
              "      <td>95</td>\n",
              "      <td>84</td>\n",
              "      <td>99.0</td>\n",
              "      <td>0.2750</td>\n",
              "      <td>225</td>\n",
              "      <td>56.25</td>\n",
              "      <td>30.5</td>\n",
              "    </tr>\n",
              "    <tr>\n",
              "      <th>25</th>\n",
              "      <td>2016-07-26</td>\n",
              "      <td>Park</td>\n",
              "      <td>176</td>\n",
              "      <td>129</td>\n",
              "      <td>83</td>\n",
              "      <td>158.0</td>\n",
              "      <td>0.4025</td>\n",
              "      <td>305</td>\n",
              "      <td>106.75</td>\n",
              "      <td>28.5</td>\n",
              "    </tr>\n",
              "    <tr>\n",
              "      <th>10</th>\n",
              "      <td>2016-07-11</td>\n",
              "      <td>Beach</td>\n",
              "      <td>162</td>\n",
              "      <td>120</td>\n",
              "      <td>83</td>\n",
              "      <td>135.0</td>\n",
              "      <td>0.2750</td>\n",
              "      <td>282</td>\n",
              "      <td>70.50</td>\n",
              "      <td>28.5</td>\n",
              "    </tr>\n",
              "    <tr>\n",
              "      <th>9</th>\n",
              "      <td>2016-07-10</td>\n",
              "      <td>Beach</td>\n",
              "      <td>140</td>\n",
              "      <td>98</td>\n",
              "      <td>82</td>\n",
              "      <td>131.0</td>\n",
              "      <td>0.2750</td>\n",
              "      <td>238</td>\n",
              "      <td>59.50</td>\n",
              "      <td>24.0</td>\n",
              "    </tr>\n",
              "  </tbody>\n",
              "</table>\n",
              "</div>"
            ],
            "text/plain": [
              "         Date Location  Lemon  Orange  ...   Price  Sales  Revenue  Rank\n",
              "24 2016-07-25     Park    156     113  ...  0.5750    269   134.50  30.5\n",
              "11 2016-07-12    Beach    130      95  ...  0.2750    225    56.25  30.5\n",
              "25 2016-07-26     Park    176     129  ...  0.4025    305   106.75  28.5\n",
              "10 2016-07-11    Beach    162     120  ...  0.2750    282    70.50  28.5\n",
              "9  2016-07-10    Beach    140      98  ...  0.2750    238    59.50  24.0\n",
              "\n",
              "[5 rows x 10 columns]"
            ]
          },
          "metadata": {
            "tags": []
          },
          "execution_count": 21
        }
      ]
    },
    {
      "cell_type": "markdown",
      "metadata": {
        "id": "qZEmcuFiyP2L",
        "colab_type": "text"
      },
      "source": [
        "# Exercício 10\n",
        "**Imprima um gráfico de linha que retorne o lucro ao longo do tempo**"
      ]
    },
    {
      "cell_type": "code",
      "metadata": {
        "id": "A2eN08xByP2M",
        "colab_type": "code",
        "outputId": "1143ebb6-6430-4184-dc26-17213709e862",
        "colab": {
          "base_uri": "https://localhost:8080/",
          "height": 385
        }
      },
      "source": [
        "alt.Chart(lemonades).mark_line().encode(\n",
        "    x= alt.X('Date', axis=alt.Axis(title='Tempo')),\n",
        "    y= alt.Y('Revenue', axis=alt.Axis(title='Lucro'))\n",
        ").properties(\n",
        "    title=\"Lucro sobre o tempo\"\n",
        ")"
      ],
      "execution_count": 22,
      "outputs": [
        {
          "output_type": "execute_result",
          "data": {
            "text/plain": [
              "alt.Chart(...)"
            ],
            "text/html": [
              "<!DOCTYPE html>\n",
              "<html>\n",
              "<head>\n",
              "  <style>\n",
              "    .vega-actions a {\n",
              "        margin-right: 12px;\n",
              "        color: #757575;\n",
              "        font-weight: normal;\n",
              "        font-size: 13px;\n",
              "    }\n",
              "    .error {\n",
              "        color: red;\n",
              "    }\n",
              "  </style>\n",
              "  <script type=\"text/javascript\" src=\"https://cdn.jsdelivr.net/npm//vega@5\"></script>\n",
              "  <script type=\"text/javascript\" src=\"https://cdn.jsdelivr.net/npm//vega-lite@3.4.0\"></script>\n",
              "  <script type=\"text/javascript\" src=\"https://cdn.jsdelivr.net/npm//vega-embed@4\"></script>\n",
              "</head>\n",
              "<body>\n",
              "  <div id=\"altair-viz\"></div>\n",
              "  <script>\n",
              "    (function(vegaEmbed) {\n",
              "      var spec = {\"config\": {\"view\": {\"width\": 400, \"height\": 300}, \"mark\": {\"tooltip\": null}}, \"data\": {\"name\": \"data-4a96618932c56ba96ade3d08a6fff482\"}, \"mark\": \"line\", \"encoding\": {\"x\": {\"type\": \"temporal\", \"axis\": {\"title\": \"Tempo\"}, \"field\": \"Date\"}, \"y\": {\"type\": \"quantitative\", \"axis\": {\"title\": \"Lucro\"}, \"field\": \"Revenue\"}}, \"title\": \"Lucro sobre o tempo\", \"$schema\": \"https://vega.github.io/schema/vega-lite/v3.4.0.json\", \"datasets\": {\"data-4a96618932c56ba96ade3d08a6fff482\": [{\"Date\": \"2016-07-25T00:00:00\", \"Location\": \"Park\", \"Lemon\": 156, \"Orange\": 113, \"Temperature\": 84, \"Leaflets\": 135.0, \"Price\": 0.575, \"Sales\": 269, \"Revenue\": 134.5, \"Rank\": 30.5}, {\"Date\": \"2016-07-12T00:00:00\", \"Location\": \"Beach\", \"Lemon\": 130, \"Orange\": 95, \"Temperature\": 84, \"Leaflets\": 99.0, \"Price\": 0.275, \"Sales\": 225, \"Revenue\": 56.25, \"Rank\": 30.5}, {\"Date\": \"2016-07-26T00:00:00\", \"Location\": \"Park\", \"Lemon\": 176, \"Orange\": 129, \"Temperature\": 83, \"Leaflets\": 158.0, \"Price\": 0.40249999999999997, \"Sales\": 305, \"Revenue\": 106.75, \"Rank\": 28.5}, {\"Date\": \"2016-07-11T00:00:00\", \"Location\": \"Beach\", \"Lemon\": 162, \"Orange\": 120, \"Temperature\": 83, \"Leaflets\": 135.0, \"Price\": 0.275, \"Sales\": 282, \"Revenue\": 70.5, \"Rank\": 28.5}, {\"Date\": \"2016-07-10T00:00:00\", \"Location\": \"Beach\", \"Lemon\": 140, \"Orange\": 98, \"Temperature\": 82, \"Leaflets\": 131.0, \"Price\": 0.275, \"Sales\": 238, \"Revenue\": 59.5, \"Rank\": 24.0}, {\"Date\": \"2016-07-24T00:00:00\", \"Location\": \"Park\", \"Lemon\": 121, \"Orange\": 82, \"Temperature\": 82, \"Leaflets\": 117.0, \"Price\": 0.575, \"Sales\": 203, \"Revenue\": 101.5, \"Rank\": 24.0}, {\"Date\": \"2016-07-28T00:00:00\", \"Location\": \"Park\", \"Lemon\": 96, \"Orange\": 63, \"Temperature\": 82, \"Leaflets\": 90.0, \"Price\": 0.40249999999999997, \"Sales\": 159, \"Revenue\": 55.65, \"Rank\": 24.0}, {\"Date\": \"2016-07-31T00:00:00\", \"Location\": \"Beach\", \"Lemon\": 76, \"Orange\": 47, \"Temperature\": 82, \"Leaflets\": 68.0, \"Price\": 0.385, \"Sales\": 123, \"Revenue\": 43.05, \"Rank\": 24.0}, {\"Date\": \"2016-07-08T00:00:00\", \"Location\": \"Beach\", \"Lemon\": 123, \"Orange\": 86, \"Temperature\": 82, \"Leaflets\": 113.0, \"Price\": 0.275, \"Sales\": 209, \"Revenue\": 52.25, \"Rank\": 24.0}, {\"Date\": \"2016-07-06T00:00:00\", \"Location\": \"Beach\", \"Lemon\": 103, \"Orange\": 69, \"Temperature\": 82, \"Leaflets\": 90.0, \"Price\": 0.275, \"Sales\": 172, \"Revenue\": 43.0, \"Rank\": 24.0}, {\"Date\": \"2016-07-30T00:00:00\", \"Location\": \"Beach\", \"Lemon\": 88, \"Orange\": 57, \"Temperature\": 82, \"Leaflets\": 81.0, \"Price\": 0.385, \"Sales\": 145, \"Revenue\": 50.75, \"Rank\": 24.0}, {\"Date\": \"2016-07-18T00:00:00\", \"Location\": \"Park\", \"Lemon\": 131, \"Orange\": 92, \"Temperature\": 81, \"Leaflets\": 122.0, \"Price\": 0.575, \"Sales\": 223, \"Revenue\": 111.5, \"Rank\": 18.5}, {\"Date\": \"2016-07-07T00:00:00\", \"Location\": \"Beach\", \"Lemon\": 143, \"Orange\": 101, \"Temperature\": 81, \"Leaflets\": 135.0, \"Price\": 0.275, \"Sales\": 244, \"Revenue\": 61.0, \"Rank\": 18.5}, {\"Date\": \"2016-07-23T00:00:00\", \"Location\": \"Park\", \"Lemon\": 120, \"Orange\": 82, \"Temperature\": 81, \"Leaflets\": 117.0, \"Price\": 0.575, \"Sales\": 202, \"Revenue\": 101.0, \"Rank\": 18.5}, {\"Date\": \"2016-07-29T00:00:00\", \"Location\": \"Park\", \"Lemon\": 100, \"Orange\": 66, \"Temperature\": 81, \"Leaflets\": 95.0, \"Price\": 0.40249999999999997, \"Sales\": 166, \"Revenue\": 58.099999999999994, \"Rank\": 18.5}, {\"Date\": \"2016-07-22T00:00:00\", \"Location\": \"Park\", \"Lemon\": 112, \"Orange\": 75, \"Temperature\": 80, \"Leaflets\": 108.0, \"Price\": 0.575, \"Sales\": 187, \"Revenue\": 93.5, \"Rank\": 15.0}, {\"Date\": \"2016-07-09T00:00:00\", \"Location\": \"Beach\", \"Lemon\": 134, \"Orange\": 95, \"Temperature\": 80, \"Leaflets\": 126.0, \"Price\": 0.275, \"Sales\": 229, \"Revenue\": 57.25, \"Rank\": 15.0}, {\"Date\": \"2016-07-27T00:00:00\", \"Location\": \"Park\", \"Lemon\": 104, \"Orange\": 68, \"Temperature\": 80, \"Leaflets\": 99.0, \"Price\": 0.40249999999999997, \"Sales\": 172, \"Revenue\": 60.199999999999996, \"Rank\": 15.0}, {\"Date\": \"2016-07-19T00:00:00\", \"Location\": \"Park\", \"Lemon\": 122, \"Orange\": 85, \"Temperature\": 78, \"Leaflets\": 113.0, \"Price\": 0.575, \"Sales\": 207, \"Revenue\": 103.5, \"Rank\": 12.0}, {\"Date\": \"2016-07-05T00:00:00\", \"Location\": \"Beach\", \"Lemon\": 159, \"Orange\": 118, \"Temperature\": 78, \"Leaflets\": 135.0, \"Price\": 0.275, \"Sales\": 277, \"Revenue\": 69.25, \"Rank\": 12.0}, {\"Date\": \"2016-07-14T00:00:00\", \"Location\": \"Beach\", \"Lemon\": 122, \"Orange\": 85, \"Temperature\": 78, \"Leaflets\": 113.0, \"Price\": 0.275, \"Sales\": 207, \"Revenue\": 51.75, \"Rank\": 12.0}, {\"Date\": \"2016-07-17T00:00:00\", \"Location\": \"Beach\", \"Lemon\": 115, \"Orange\": 76, \"Temperature\": 77, \"Leaflets\": 126.0, \"Price\": 0.55, \"Sales\": 191, \"Revenue\": 95.5, \"Rank\": 9.0}, {\"Date\": \"2016-07-21T00:00:00\", \"Location\": \"Park\", \"Lemon\": 83, \"Orange\": 50, \"Temperature\": 77, \"Leaflets\": 90.0, \"Price\": 0.575, \"Sales\": 133, \"Revenue\": 66.5, \"Rank\": 9.0}, {\"Date\": \"2016-07-13T00:00:00\", \"Location\": \"Beach\", \"Lemon\": 109, \"Orange\": 75, \"Temperature\": 77, \"Leaflets\": 99.0, \"Price\": 0.275, \"Sales\": 184, \"Revenue\": 46.0, \"Rank\": 9.0}, {\"Date\": \"2016-07-04T00:00:00\", \"Location\": \"Beach\", \"Lemon\": 134, \"Orange\": 99, \"Temperature\": 76, \"Leaflets\": 98.0, \"Price\": 0.275, \"Sales\": 233, \"Revenue\": 58.25, \"Rank\": 7.0}, {\"Date\": \"2016-07-15T00:00:00\", \"Location\": \"Beach\", \"Lemon\": 98, \"Orange\": 62, \"Temperature\": 75, \"Leaflets\": 108.0, \"Price\": 0.55, \"Sales\": 160, \"Revenue\": 80.0, \"Rank\": 6.0}, {\"Date\": \"2016-07-16T00:00:00\", \"Location\": \"Beach\", \"Lemon\": 81, \"Orange\": 50, \"Temperature\": 74, \"Leaflets\": 90.0, \"Price\": 0.55, \"Sales\": 131, \"Revenue\": 65.5, \"Rank\": 5.0}, {\"Date\": \"2016-07-02T00:00:00\", \"Location\": \"Park\", \"Lemon\": 98, \"Orange\": 67, \"Temperature\": 72, \"Leaflets\": 90.0, \"Price\": 0.2875, \"Sales\": 165, \"Revenue\": 41.25, \"Rank\": 4.0}, {\"Date\": \"2016-07-03T00:00:00\", \"Location\": \"Park\", \"Lemon\": 110, \"Orange\": 77, \"Temperature\": 71, \"Leaflets\": 104.0, \"Price\": 0.2875, \"Sales\": 187, \"Revenue\": 46.75, \"Rank\": 3.0}, {\"Date\": \"2016-07-20T00:00:00\", \"Location\": \"Park\", \"Lemon\": 71, \"Orange\": 42, \"Temperature\": 70, \"Leaflets\": 109.16666666666667, \"Price\": 0.575, \"Sales\": 113, \"Revenue\": 56.5, \"Rank\": 1.5}, {\"Date\": \"2016-07-01T00:00:00\", \"Location\": \"Park\", \"Lemon\": 97, \"Orange\": 67, \"Temperature\": 70, \"Leaflets\": 90.0, \"Price\": 0.2875, \"Sales\": 164, \"Revenue\": 41.0, \"Rank\": 1.5}]}};\n",
              "      var embedOpt = {\"mode\": \"vega-lite\"};\n",
              "\n",
              "      function showError(el, error){\n",
              "          el.innerHTML = ('<div class=\"error\" style=\"color:red;\">'\n",
              "                          + '<p>JavaScript Error: ' + error.message + '</p>'\n",
              "                          + \"<p>This usually means there's a typo in your chart specification. \"\n",
              "                          + \"See the javascript console for the full traceback.</p>\"\n",
              "                          + '</div>');\n",
              "          throw error;\n",
              "      }\n",
              "      const el = document.getElementById('altair-viz');\n",
              "      vegaEmbed(\"#altair-viz\", spec, embedOpt)\n",
              "        .catch(error => showError(el, error));\n",
              "    })(vegaEmbed);\n",
              "\n",
              "  </script>\n",
              "</body>\n",
              "</html>"
            ]
          },
          "metadata": {
            "tags": []
          },
          "execution_count": 22
        }
      ]
    },
    {
      "cell_type": "markdown",
      "metadata": {
        "id": "MUuEAx_G-Py6",
        "colab_type": "text"
      },
      "source": [
        "**Observação:** Nesse gráfico podemos observar que existem períodos de grande alta e de grande baixa, que podem representar uma sazonalidade, específico de pequenos períodos que podem ser analisados mais de perto."
      ]
    },
    {
      "cell_type": "markdown",
      "metadata": {
        "id": "UFLH1aH1yP2P",
        "colab_type": "text"
      },
      "source": [
        "# Exercício 11\n",
        "\n",
        "**Crie um scatter-plot leaflets x sales. Existe alguma correlação entre\n",
        "os dados? (Use a correlação de Pearson e explique o significado do\n",
        "valor obtido por ela)**\n"
      ]
    },
    {
      "cell_type": "code",
      "metadata": {
        "id": "AhpXrPEfyP2P",
        "colab_type": "code",
        "outputId": "1e28bad1-ffab-4fe5-d35b-3bfdaa5a2428",
        "colab": {
          "base_uri": "https://localhost:8080/",
          "height": 385
        }
      },
      "source": [
        "alt.Chart(lemonades).mark_point(\n",
        "    color='blue'\n",
        ").encode(\n",
        "    x= alt.X('Leaflets', axis=alt.Axis(title='Leaflets')),\n",
        "    y= alt.Y('Sales', axis=alt.Axis(title='Sales'))\n",
        ").properties(\n",
        "    title=\"Correlação Sales x Leaflets\"\n",
        ")"
      ],
      "execution_count": 23,
      "outputs": [
        {
          "output_type": "execute_result",
          "data": {
            "text/plain": [
              "alt.Chart(...)"
            ],
            "text/html": [
              "<!DOCTYPE html>\n",
              "<html>\n",
              "<head>\n",
              "  <style>\n",
              "    .vega-actions a {\n",
              "        margin-right: 12px;\n",
              "        color: #757575;\n",
              "        font-weight: normal;\n",
              "        font-size: 13px;\n",
              "    }\n",
              "    .error {\n",
              "        color: red;\n",
              "    }\n",
              "  </style>\n",
              "  <script type=\"text/javascript\" src=\"https://cdn.jsdelivr.net/npm//vega@5\"></script>\n",
              "  <script type=\"text/javascript\" src=\"https://cdn.jsdelivr.net/npm//vega-lite@3.4.0\"></script>\n",
              "  <script type=\"text/javascript\" src=\"https://cdn.jsdelivr.net/npm//vega-embed@4\"></script>\n",
              "</head>\n",
              "<body>\n",
              "  <div id=\"altair-viz\"></div>\n",
              "  <script>\n",
              "    (function(vegaEmbed) {\n",
              "      var spec = {\"config\": {\"view\": {\"width\": 400, \"height\": 300}, \"mark\": {\"tooltip\": null}}, \"data\": {\"name\": \"data-4a96618932c56ba96ade3d08a6fff482\"}, \"mark\": {\"type\": \"point\", \"color\": \"blue\"}, \"encoding\": {\"x\": {\"type\": \"quantitative\", \"axis\": {\"title\": \"Leaflets\"}, \"field\": \"Leaflets\"}, \"y\": {\"type\": \"quantitative\", \"axis\": {\"title\": \"Sales\"}, \"field\": \"Sales\"}}, \"title\": \"Correla\\u00e7\\u00e3o Sales x Leaflets\", \"$schema\": \"https://vega.github.io/schema/vega-lite/v3.4.0.json\", \"datasets\": {\"data-4a96618932c56ba96ade3d08a6fff482\": [{\"Date\": \"2016-07-25T00:00:00\", \"Location\": \"Park\", \"Lemon\": 156, \"Orange\": 113, \"Temperature\": 84, \"Leaflets\": 135.0, \"Price\": 0.575, \"Sales\": 269, \"Revenue\": 134.5, \"Rank\": 30.5}, {\"Date\": \"2016-07-12T00:00:00\", \"Location\": \"Beach\", \"Lemon\": 130, \"Orange\": 95, \"Temperature\": 84, \"Leaflets\": 99.0, \"Price\": 0.275, \"Sales\": 225, \"Revenue\": 56.25, \"Rank\": 30.5}, {\"Date\": \"2016-07-26T00:00:00\", \"Location\": \"Park\", \"Lemon\": 176, \"Orange\": 129, \"Temperature\": 83, \"Leaflets\": 158.0, \"Price\": 0.40249999999999997, \"Sales\": 305, \"Revenue\": 106.75, \"Rank\": 28.5}, {\"Date\": \"2016-07-11T00:00:00\", \"Location\": \"Beach\", \"Lemon\": 162, \"Orange\": 120, \"Temperature\": 83, \"Leaflets\": 135.0, \"Price\": 0.275, \"Sales\": 282, \"Revenue\": 70.5, \"Rank\": 28.5}, {\"Date\": \"2016-07-10T00:00:00\", \"Location\": \"Beach\", \"Lemon\": 140, \"Orange\": 98, \"Temperature\": 82, \"Leaflets\": 131.0, \"Price\": 0.275, \"Sales\": 238, \"Revenue\": 59.5, \"Rank\": 24.0}, {\"Date\": \"2016-07-24T00:00:00\", \"Location\": \"Park\", \"Lemon\": 121, \"Orange\": 82, \"Temperature\": 82, \"Leaflets\": 117.0, \"Price\": 0.575, \"Sales\": 203, \"Revenue\": 101.5, \"Rank\": 24.0}, {\"Date\": \"2016-07-28T00:00:00\", \"Location\": \"Park\", \"Lemon\": 96, \"Orange\": 63, \"Temperature\": 82, \"Leaflets\": 90.0, \"Price\": 0.40249999999999997, \"Sales\": 159, \"Revenue\": 55.65, \"Rank\": 24.0}, {\"Date\": \"2016-07-31T00:00:00\", \"Location\": \"Beach\", \"Lemon\": 76, \"Orange\": 47, \"Temperature\": 82, \"Leaflets\": 68.0, \"Price\": 0.385, \"Sales\": 123, \"Revenue\": 43.05, \"Rank\": 24.0}, {\"Date\": \"2016-07-08T00:00:00\", \"Location\": \"Beach\", \"Lemon\": 123, \"Orange\": 86, \"Temperature\": 82, \"Leaflets\": 113.0, \"Price\": 0.275, \"Sales\": 209, \"Revenue\": 52.25, \"Rank\": 24.0}, {\"Date\": \"2016-07-06T00:00:00\", \"Location\": \"Beach\", \"Lemon\": 103, \"Orange\": 69, \"Temperature\": 82, \"Leaflets\": 90.0, \"Price\": 0.275, \"Sales\": 172, \"Revenue\": 43.0, \"Rank\": 24.0}, {\"Date\": \"2016-07-30T00:00:00\", \"Location\": \"Beach\", \"Lemon\": 88, \"Orange\": 57, \"Temperature\": 82, \"Leaflets\": 81.0, \"Price\": 0.385, \"Sales\": 145, \"Revenue\": 50.75, \"Rank\": 24.0}, {\"Date\": \"2016-07-18T00:00:00\", \"Location\": \"Park\", \"Lemon\": 131, \"Orange\": 92, \"Temperature\": 81, \"Leaflets\": 122.0, \"Price\": 0.575, \"Sales\": 223, \"Revenue\": 111.5, \"Rank\": 18.5}, {\"Date\": \"2016-07-07T00:00:00\", \"Location\": \"Beach\", \"Lemon\": 143, \"Orange\": 101, \"Temperature\": 81, \"Leaflets\": 135.0, \"Price\": 0.275, \"Sales\": 244, \"Revenue\": 61.0, \"Rank\": 18.5}, {\"Date\": \"2016-07-23T00:00:00\", \"Location\": \"Park\", \"Lemon\": 120, \"Orange\": 82, \"Temperature\": 81, \"Leaflets\": 117.0, \"Price\": 0.575, \"Sales\": 202, \"Revenue\": 101.0, \"Rank\": 18.5}, {\"Date\": \"2016-07-29T00:00:00\", \"Location\": \"Park\", \"Lemon\": 100, \"Orange\": 66, \"Temperature\": 81, \"Leaflets\": 95.0, \"Price\": 0.40249999999999997, \"Sales\": 166, \"Revenue\": 58.099999999999994, \"Rank\": 18.5}, {\"Date\": \"2016-07-22T00:00:00\", \"Location\": \"Park\", \"Lemon\": 112, \"Orange\": 75, \"Temperature\": 80, \"Leaflets\": 108.0, \"Price\": 0.575, \"Sales\": 187, \"Revenue\": 93.5, \"Rank\": 15.0}, {\"Date\": \"2016-07-09T00:00:00\", \"Location\": \"Beach\", \"Lemon\": 134, \"Orange\": 95, \"Temperature\": 80, \"Leaflets\": 126.0, \"Price\": 0.275, \"Sales\": 229, \"Revenue\": 57.25, \"Rank\": 15.0}, {\"Date\": \"2016-07-27T00:00:00\", \"Location\": \"Park\", \"Lemon\": 104, \"Orange\": 68, \"Temperature\": 80, \"Leaflets\": 99.0, \"Price\": 0.40249999999999997, \"Sales\": 172, \"Revenue\": 60.199999999999996, \"Rank\": 15.0}, {\"Date\": \"2016-07-19T00:00:00\", \"Location\": \"Park\", \"Lemon\": 122, \"Orange\": 85, \"Temperature\": 78, \"Leaflets\": 113.0, \"Price\": 0.575, \"Sales\": 207, \"Revenue\": 103.5, \"Rank\": 12.0}, {\"Date\": \"2016-07-05T00:00:00\", \"Location\": \"Beach\", \"Lemon\": 159, \"Orange\": 118, \"Temperature\": 78, \"Leaflets\": 135.0, \"Price\": 0.275, \"Sales\": 277, \"Revenue\": 69.25, \"Rank\": 12.0}, {\"Date\": \"2016-07-14T00:00:00\", \"Location\": \"Beach\", \"Lemon\": 122, \"Orange\": 85, \"Temperature\": 78, \"Leaflets\": 113.0, \"Price\": 0.275, \"Sales\": 207, \"Revenue\": 51.75, \"Rank\": 12.0}, {\"Date\": \"2016-07-17T00:00:00\", \"Location\": \"Beach\", \"Lemon\": 115, \"Orange\": 76, \"Temperature\": 77, \"Leaflets\": 126.0, \"Price\": 0.55, \"Sales\": 191, \"Revenue\": 95.5, \"Rank\": 9.0}, {\"Date\": \"2016-07-21T00:00:00\", \"Location\": \"Park\", \"Lemon\": 83, \"Orange\": 50, \"Temperature\": 77, \"Leaflets\": 90.0, \"Price\": 0.575, \"Sales\": 133, \"Revenue\": 66.5, \"Rank\": 9.0}, {\"Date\": \"2016-07-13T00:00:00\", \"Location\": \"Beach\", \"Lemon\": 109, \"Orange\": 75, \"Temperature\": 77, \"Leaflets\": 99.0, \"Price\": 0.275, \"Sales\": 184, \"Revenue\": 46.0, \"Rank\": 9.0}, {\"Date\": \"2016-07-04T00:00:00\", \"Location\": \"Beach\", \"Lemon\": 134, \"Orange\": 99, \"Temperature\": 76, \"Leaflets\": 98.0, \"Price\": 0.275, \"Sales\": 233, \"Revenue\": 58.25, \"Rank\": 7.0}, {\"Date\": \"2016-07-15T00:00:00\", \"Location\": \"Beach\", \"Lemon\": 98, \"Orange\": 62, \"Temperature\": 75, \"Leaflets\": 108.0, \"Price\": 0.55, \"Sales\": 160, \"Revenue\": 80.0, \"Rank\": 6.0}, {\"Date\": \"2016-07-16T00:00:00\", \"Location\": \"Beach\", \"Lemon\": 81, \"Orange\": 50, \"Temperature\": 74, \"Leaflets\": 90.0, \"Price\": 0.55, \"Sales\": 131, \"Revenue\": 65.5, \"Rank\": 5.0}, {\"Date\": \"2016-07-02T00:00:00\", \"Location\": \"Park\", \"Lemon\": 98, \"Orange\": 67, \"Temperature\": 72, \"Leaflets\": 90.0, \"Price\": 0.2875, \"Sales\": 165, \"Revenue\": 41.25, \"Rank\": 4.0}, {\"Date\": \"2016-07-03T00:00:00\", \"Location\": \"Park\", \"Lemon\": 110, \"Orange\": 77, \"Temperature\": 71, \"Leaflets\": 104.0, \"Price\": 0.2875, \"Sales\": 187, \"Revenue\": 46.75, \"Rank\": 3.0}, {\"Date\": \"2016-07-20T00:00:00\", \"Location\": \"Park\", \"Lemon\": 71, \"Orange\": 42, \"Temperature\": 70, \"Leaflets\": 109.16666666666667, \"Price\": 0.575, \"Sales\": 113, \"Revenue\": 56.5, \"Rank\": 1.5}, {\"Date\": \"2016-07-01T00:00:00\", \"Location\": \"Park\", \"Lemon\": 97, \"Orange\": 67, \"Temperature\": 70, \"Leaflets\": 90.0, \"Price\": 0.2875, \"Sales\": 164, \"Revenue\": 41.0, \"Rank\": 1.5}]}};\n",
              "      var embedOpt = {\"mode\": \"vega-lite\"};\n",
              "\n",
              "      function showError(el, error){\n",
              "          el.innerHTML = ('<div class=\"error\" style=\"color:red;\">'\n",
              "                          + '<p>JavaScript Error: ' + error.message + '</p>'\n",
              "                          + \"<p>This usually means there's a typo in your chart specification. \"\n",
              "                          + \"See the javascript console for the full traceback.</p>\"\n",
              "                          + '</div>');\n",
              "          throw error;\n",
              "      }\n",
              "      const el = document.getElementById('altair-viz');\n",
              "      vegaEmbed(\"#altair-viz\", spec, embedOpt)\n",
              "        .catch(error => showError(el, error));\n",
              "    })(vegaEmbed);\n",
              "\n",
              "  </script>\n",
              "</body>\n",
              "</html>"
            ]
          },
          "metadata": {
            "tags": []
          },
          "execution_count": 23
        }
      ]
    },
    {
      "cell_type": "markdown",
      "metadata": {
        "id": "2xGOWAynu16m",
        "colab_type": "text"
      },
      "source": [
        "**Observação:** Existe correlação!  \n",
        "A correlação apresentada no gráfico é quanto maior for as entregas de folhetos, maior serão as vendas.   \n",
        "Essa correlação mostra que a ação é eficiente para as vendas."
      ]
    },
    {
      "cell_type": "markdown",
      "metadata": {
        "id": "0RkKSE4QyP2T",
        "colab_type": "text"
      },
      "source": [
        "# Exercício 12\n",
        "\n",
        "**Crie um histograma com 10 bins que mostre o lucro (revenue)**"
      ]
    },
    {
      "cell_type": "code",
      "metadata": {
        "id": "zOSaH8HgyP2T",
        "colab_type": "code",
        "outputId": "a22b0b31-bfff-4daa-99d6-023e7395ad68",
        "colab": {
          "base_uri": "https://localhost:8080/",
          "height": 385
        }
      },
      "source": [
        "alt.Chart(lemonades).mark_bar().encode(\n",
        "    x= alt.X('Revenue', axis=alt.Axis(title='Revenue'), bin=alt.Bin(maxbins=10)),\n",
        "    y= 'count()'\n",
        ").properties(\n",
        "    title=\"Correlação Sales x Leaflets\"\n",
        ")"
      ],
      "execution_count": 24,
      "outputs": [
        {
          "output_type": "execute_result",
          "data": {
            "text/plain": [
              "alt.Chart(...)"
            ],
            "text/html": [
              "<!DOCTYPE html>\n",
              "<html>\n",
              "<head>\n",
              "  <style>\n",
              "    .vega-actions a {\n",
              "        margin-right: 12px;\n",
              "        color: #757575;\n",
              "        font-weight: normal;\n",
              "        font-size: 13px;\n",
              "    }\n",
              "    .error {\n",
              "        color: red;\n",
              "    }\n",
              "  </style>\n",
              "  <script type=\"text/javascript\" src=\"https://cdn.jsdelivr.net/npm//vega@5\"></script>\n",
              "  <script type=\"text/javascript\" src=\"https://cdn.jsdelivr.net/npm//vega-lite@3.4.0\"></script>\n",
              "  <script type=\"text/javascript\" src=\"https://cdn.jsdelivr.net/npm//vega-embed@4\"></script>\n",
              "</head>\n",
              "<body>\n",
              "  <div id=\"altair-viz\"></div>\n",
              "  <script>\n",
              "    (function(vegaEmbed) {\n",
              "      var spec = {\"config\": {\"view\": {\"width\": 400, \"height\": 300}, \"mark\": {\"tooltip\": null}}, \"data\": {\"name\": \"data-4a96618932c56ba96ade3d08a6fff482\"}, \"mark\": \"bar\", \"encoding\": {\"x\": {\"type\": \"quantitative\", \"axis\": {\"title\": \"Revenue\"}, \"bin\": {\"maxbins\": 10}, \"field\": \"Revenue\"}, \"y\": {\"type\": \"quantitative\", \"aggregate\": \"count\"}}, \"title\": \"Correla\\u00e7\\u00e3o Sales x Leaflets\", \"$schema\": \"https://vega.github.io/schema/vega-lite/v3.4.0.json\", \"datasets\": {\"data-4a96618932c56ba96ade3d08a6fff482\": [{\"Date\": \"2016-07-25T00:00:00\", \"Location\": \"Park\", \"Lemon\": 156, \"Orange\": 113, \"Temperature\": 84, \"Leaflets\": 135.0, \"Price\": 0.575, \"Sales\": 269, \"Revenue\": 134.5, \"Rank\": 30.5}, {\"Date\": \"2016-07-12T00:00:00\", \"Location\": \"Beach\", \"Lemon\": 130, \"Orange\": 95, \"Temperature\": 84, \"Leaflets\": 99.0, \"Price\": 0.275, \"Sales\": 225, \"Revenue\": 56.25, \"Rank\": 30.5}, {\"Date\": \"2016-07-26T00:00:00\", \"Location\": \"Park\", \"Lemon\": 176, \"Orange\": 129, \"Temperature\": 83, \"Leaflets\": 158.0, \"Price\": 0.40249999999999997, \"Sales\": 305, \"Revenue\": 106.75, \"Rank\": 28.5}, {\"Date\": \"2016-07-11T00:00:00\", \"Location\": \"Beach\", \"Lemon\": 162, \"Orange\": 120, \"Temperature\": 83, \"Leaflets\": 135.0, \"Price\": 0.275, \"Sales\": 282, \"Revenue\": 70.5, \"Rank\": 28.5}, {\"Date\": \"2016-07-10T00:00:00\", \"Location\": \"Beach\", \"Lemon\": 140, \"Orange\": 98, \"Temperature\": 82, \"Leaflets\": 131.0, \"Price\": 0.275, \"Sales\": 238, \"Revenue\": 59.5, \"Rank\": 24.0}, {\"Date\": \"2016-07-24T00:00:00\", \"Location\": \"Park\", \"Lemon\": 121, \"Orange\": 82, \"Temperature\": 82, \"Leaflets\": 117.0, \"Price\": 0.575, \"Sales\": 203, \"Revenue\": 101.5, \"Rank\": 24.0}, {\"Date\": \"2016-07-28T00:00:00\", \"Location\": \"Park\", \"Lemon\": 96, \"Orange\": 63, \"Temperature\": 82, \"Leaflets\": 90.0, \"Price\": 0.40249999999999997, \"Sales\": 159, \"Revenue\": 55.65, \"Rank\": 24.0}, {\"Date\": \"2016-07-31T00:00:00\", \"Location\": \"Beach\", \"Lemon\": 76, \"Orange\": 47, \"Temperature\": 82, \"Leaflets\": 68.0, \"Price\": 0.385, \"Sales\": 123, \"Revenue\": 43.05, \"Rank\": 24.0}, {\"Date\": \"2016-07-08T00:00:00\", \"Location\": \"Beach\", \"Lemon\": 123, \"Orange\": 86, \"Temperature\": 82, \"Leaflets\": 113.0, \"Price\": 0.275, \"Sales\": 209, \"Revenue\": 52.25, \"Rank\": 24.0}, {\"Date\": \"2016-07-06T00:00:00\", \"Location\": \"Beach\", \"Lemon\": 103, \"Orange\": 69, \"Temperature\": 82, \"Leaflets\": 90.0, \"Price\": 0.275, \"Sales\": 172, \"Revenue\": 43.0, \"Rank\": 24.0}, {\"Date\": \"2016-07-30T00:00:00\", \"Location\": \"Beach\", \"Lemon\": 88, \"Orange\": 57, \"Temperature\": 82, \"Leaflets\": 81.0, \"Price\": 0.385, \"Sales\": 145, \"Revenue\": 50.75, \"Rank\": 24.0}, {\"Date\": \"2016-07-18T00:00:00\", \"Location\": \"Park\", \"Lemon\": 131, \"Orange\": 92, \"Temperature\": 81, \"Leaflets\": 122.0, \"Price\": 0.575, \"Sales\": 223, \"Revenue\": 111.5, \"Rank\": 18.5}, {\"Date\": \"2016-07-07T00:00:00\", \"Location\": \"Beach\", \"Lemon\": 143, \"Orange\": 101, \"Temperature\": 81, \"Leaflets\": 135.0, \"Price\": 0.275, \"Sales\": 244, \"Revenue\": 61.0, \"Rank\": 18.5}, {\"Date\": \"2016-07-23T00:00:00\", \"Location\": \"Park\", \"Lemon\": 120, \"Orange\": 82, \"Temperature\": 81, \"Leaflets\": 117.0, \"Price\": 0.575, \"Sales\": 202, \"Revenue\": 101.0, \"Rank\": 18.5}, {\"Date\": \"2016-07-29T00:00:00\", \"Location\": \"Park\", \"Lemon\": 100, \"Orange\": 66, \"Temperature\": 81, \"Leaflets\": 95.0, \"Price\": 0.40249999999999997, \"Sales\": 166, \"Revenue\": 58.099999999999994, \"Rank\": 18.5}, {\"Date\": \"2016-07-22T00:00:00\", \"Location\": \"Park\", \"Lemon\": 112, \"Orange\": 75, \"Temperature\": 80, \"Leaflets\": 108.0, \"Price\": 0.575, \"Sales\": 187, \"Revenue\": 93.5, \"Rank\": 15.0}, {\"Date\": \"2016-07-09T00:00:00\", \"Location\": \"Beach\", \"Lemon\": 134, \"Orange\": 95, \"Temperature\": 80, \"Leaflets\": 126.0, \"Price\": 0.275, \"Sales\": 229, \"Revenue\": 57.25, \"Rank\": 15.0}, {\"Date\": \"2016-07-27T00:00:00\", \"Location\": \"Park\", \"Lemon\": 104, \"Orange\": 68, \"Temperature\": 80, \"Leaflets\": 99.0, \"Price\": 0.40249999999999997, \"Sales\": 172, \"Revenue\": 60.199999999999996, \"Rank\": 15.0}, {\"Date\": \"2016-07-19T00:00:00\", \"Location\": \"Park\", \"Lemon\": 122, \"Orange\": 85, \"Temperature\": 78, \"Leaflets\": 113.0, \"Price\": 0.575, \"Sales\": 207, \"Revenue\": 103.5, \"Rank\": 12.0}, {\"Date\": \"2016-07-05T00:00:00\", \"Location\": \"Beach\", \"Lemon\": 159, \"Orange\": 118, \"Temperature\": 78, \"Leaflets\": 135.0, \"Price\": 0.275, \"Sales\": 277, \"Revenue\": 69.25, \"Rank\": 12.0}, {\"Date\": \"2016-07-14T00:00:00\", \"Location\": \"Beach\", \"Lemon\": 122, \"Orange\": 85, \"Temperature\": 78, \"Leaflets\": 113.0, \"Price\": 0.275, \"Sales\": 207, \"Revenue\": 51.75, \"Rank\": 12.0}, {\"Date\": \"2016-07-17T00:00:00\", \"Location\": \"Beach\", \"Lemon\": 115, \"Orange\": 76, \"Temperature\": 77, \"Leaflets\": 126.0, \"Price\": 0.55, \"Sales\": 191, \"Revenue\": 95.5, \"Rank\": 9.0}, {\"Date\": \"2016-07-21T00:00:00\", \"Location\": \"Park\", \"Lemon\": 83, \"Orange\": 50, \"Temperature\": 77, \"Leaflets\": 90.0, \"Price\": 0.575, \"Sales\": 133, \"Revenue\": 66.5, \"Rank\": 9.0}, {\"Date\": \"2016-07-13T00:00:00\", \"Location\": \"Beach\", \"Lemon\": 109, \"Orange\": 75, \"Temperature\": 77, \"Leaflets\": 99.0, \"Price\": 0.275, \"Sales\": 184, \"Revenue\": 46.0, \"Rank\": 9.0}, {\"Date\": \"2016-07-04T00:00:00\", \"Location\": \"Beach\", \"Lemon\": 134, \"Orange\": 99, \"Temperature\": 76, \"Leaflets\": 98.0, \"Price\": 0.275, \"Sales\": 233, \"Revenue\": 58.25, \"Rank\": 7.0}, {\"Date\": \"2016-07-15T00:00:00\", \"Location\": \"Beach\", \"Lemon\": 98, \"Orange\": 62, \"Temperature\": 75, \"Leaflets\": 108.0, \"Price\": 0.55, \"Sales\": 160, \"Revenue\": 80.0, \"Rank\": 6.0}, {\"Date\": \"2016-07-16T00:00:00\", \"Location\": \"Beach\", \"Lemon\": 81, \"Orange\": 50, \"Temperature\": 74, \"Leaflets\": 90.0, \"Price\": 0.55, \"Sales\": 131, \"Revenue\": 65.5, \"Rank\": 5.0}, {\"Date\": \"2016-07-02T00:00:00\", \"Location\": \"Park\", \"Lemon\": 98, \"Orange\": 67, \"Temperature\": 72, \"Leaflets\": 90.0, \"Price\": 0.2875, \"Sales\": 165, \"Revenue\": 41.25, \"Rank\": 4.0}, {\"Date\": \"2016-07-03T00:00:00\", \"Location\": \"Park\", \"Lemon\": 110, \"Orange\": 77, \"Temperature\": 71, \"Leaflets\": 104.0, \"Price\": 0.2875, \"Sales\": 187, \"Revenue\": 46.75, \"Rank\": 3.0}, {\"Date\": \"2016-07-20T00:00:00\", \"Location\": \"Park\", \"Lemon\": 71, \"Orange\": 42, \"Temperature\": 70, \"Leaflets\": 109.16666666666667, \"Price\": 0.575, \"Sales\": 113, \"Revenue\": 56.5, \"Rank\": 1.5}, {\"Date\": \"2016-07-01T00:00:00\", \"Location\": \"Park\", \"Lemon\": 97, \"Orange\": 67, \"Temperature\": 70, \"Leaflets\": 90.0, \"Price\": 0.2875, \"Sales\": 164, \"Revenue\": 41.0, \"Rank\": 1.5}]}};\n",
              "      var embedOpt = {\"mode\": \"vega-lite\"};\n",
              "\n",
              "      function showError(el, error){\n",
              "          el.innerHTML = ('<div class=\"error\" style=\"color:red;\">'\n",
              "                          + '<p>JavaScript Error: ' + error.message + '</p>'\n",
              "                          + \"<p>This usually means there's a typo in your chart specification. \"\n",
              "                          + \"See the javascript console for the full traceback.</p>\"\n",
              "                          + '</div>');\n",
              "          throw error;\n",
              "      }\n",
              "      const el = document.getElementById('altair-viz');\n",
              "      vegaEmbed(\"#altair-viz\", spec, embedOpt)\n",
              "        .catch(error => showError(el, error));\n",
              "    })(vegaEmbed);\n",
              "\n",
              "  </script>\n",
              "</body>\n",
              "</html>"
            ]
          },
          "metadata": {
            "tags": []
          },
          "execution_count": 24
        }
      ]
    },
    {
      "cell_type": "markdown",
      "metadata": {
        "id": "E-vXlPdmyP2V",
        "colab_type": "text"
      },
      "source": [
        "# Exercício 13\n",
        "\n",
        "**Crie um gráfico de linha que mostre o lucro por tipo de fruta ao\n",
        "longo do tempo.**"
      ]
    },
    {
      "cell_type": "code",
      "metadata": {
        "id": "PrKwnYv7yP2W",
        "colab_type": "code",
        "outputId": "b86071fd-f962-44d8-c6ae-dc280afd39af",
        "colab": {
          "base_uri": "https://localhost:8080/",
          "height": 204
        }
      },
      "source": [
        "lemonades['LemonRevenue'] = lemonades['Lemon'] * lemonades['Price']\n",
        "lemonades['OrangeRevenue'] = lemonades['Orange'] * lemonades['Price']\n",
        "lemonades.head()"
      ],
      "execution_count": 25,
      "outputs": [
        {
          "output_type": "execute_result",
          "data": {
            "text/html": [
              "<div>\n",
              "<style scoped>\n",
              "    .dataframe tbody tr th:only-of-type {\n",
              "        vertical-align: middle;\n",
              "    }\n",
              "\n",
              "    .dataframe tbody tr th {\n",
              "        vertical-align: top;\n",
              "    }\n",
              "\n",
              "    .dataframe thead th {\n",
              "        text-align: right;\n",
              "    }\n",
              "</style>\n",
              "<table border=\"1\" class=\"dataframe\">\n",
              "  <thead>\n",
              "    <tr style=\"text-align: right;\">\n",
              "      <th></th>\n",
              "      <th>Date</th>\n",
              "      <th>Location</th>\n",
              "      <th>Lemon</th>\n",
              "      <th>Orange</th>\n",
              "      <th>Temperature</th>\n",
              "      <th>Leaflets</th>\n",
              "      <th>Price</th>\n",
              "      <th>Sales</th>\n",
              "      <th>Revenue</th>\n",
              "      <th>Rank</th>\n",
              "      <th>LemonRevenue</th>\n",
              "      <th>OrangeRevenue</th>\n",
              "    </tr>\n",
              "  </thead>\n",
              "  <tbody>\n",
              "    <tr>\n",
              "      <th>24</th>\n",
              "      <td>2016-07-25</td>\n",
              "      <td>Park</td>\n",
              "      <td>156</td>\n",
              "      <td>113</td>\n",
              "      <td>84</td>\n",
              "      <td>135.0</td>\n",
              "      <td>0.5750</td>\n",
              "      <td>269</td>\n",
              "      <td>134.50</td>\n",
              "      <td>30.5</td>\n",
              "      <td>89.70</td>\n",
              "      <td>64.9750</td>\n",
              "    </tr>\n",
              "    <tr>\n",
              "      <th>11</th>\n",
              "      <td>2016-07-12</td>\n",
              "      <td>Beach</td>\n",
              "      <td>130</td>\n",
              "      <td>95</td>\n",
              "      <td>84</td>\n",
              "      <td>99.0</td>\n",
              "      <td>0.2750</td>\n",
              "      <td>225</td>\n",
              "      <td>56.25</td>\n",
              "      <td>30.5</td>\n",
              "      <td>35.75</td>\n",
              "      <td>26.1250</td>\n",
              "    </tr>\n",
              "    <tr>\n",
              "      <th>25</th>\n",
              "      <td>2016-07-26</td>\n",
              "      <td>Park</td>\n",
              "      <td>176</td>\n",
              "      <td>129</td>\n",
              "      <td>83</td>\n",
              "      <td>158.0</td>\n",
              "      <td>0.4025</td>\n",
              "      <td>305</td>\n",
              "      <td>106.75</td>\n",
              "      <td>28.5</td>\n",
              "      <td>70.84</td>\n",
              "      <td>51.9225</td>\n",
              "    </tr>\n",
              "    <tr>\n",
              "      <th>10</th>\n",
              "      <td>2016-07-11</td>\n",
              "      <td>Beach</td>\n",
              "      <td>162</td>\n",
              "      <td>120</td>\n",
              "      <td>83</td>\n",
              "      <td>135.0</td>\n",
              "      <td>0.2750</td>\n",
              "      <td>282</td>\n",
              "      <td>70.50</td>\n",
              "      <td>28.5</td>\n",
              "      <td>44.55</td>\n",
              "      <td>33.0000</td>\n",
              "    </tr>\n",
              "    <tr>\n",
              "      <th>9</th>\n",
              "      <td>2016-07-10</td>\n",
              "      <td>Beach</td>\n",
              "      <td>140</td>\n",
              "      <td>98</td>\n",
              "      <td>82</td>\n",
              "      <td>131.0</td>\n",
              "      <td>0.2750</td>\n",
              "      <td>238</td>\n",
              "      <td>59.50</td>\n",
              "      <td>24.0</td>\n",
              "      <td>38.50</td>\n",
              "      <td>26.9500</td>\n",
              "    </tr>\n",
              "  </tbody>\n",
              "</table>\n",
              "</div>"
            ],
            "text/plain": [
              "         Date Location  Lemon  ...  Rank  LemonRevenue  OrangeRevenue\n",
              "24 2016-07-25     Park    156  ...  30.5         89.70        64.9750\n",
              "11 2016-07-12    Beach    130  ...  30.5         35.75        26.1250\n",
              "25 2016-07-26     Park    176  ...  28.5         70.84        51.9225\n",
              "10 2016-07-11    Beach    162  ...  28.5         44.55        33.0000\n",
              "9  2016-07-10    Beach    140  ...  24.0         38.50        26.9500\n",
              "\n",
              "[5 rows x 12 columns]"
            ]
          },
          "metadata": {
            "tags": []
          },
          "execution_count": 25
        }
      ]
    },
    {
      "cell_type": "code",
      "metadata": {
        "id": "RAF-HyPjyP2Y",
        "colab_type": "code",
        "outputId": "34c92fc4-f183-409f-c388-cc2ed5306393",
        "colab": {
          "base_uri": "https://localhost:8080/",
          "height": 385
        }
      },
      "source": [
        "base = alt.Chart(lemonades).encode(x='Date')\n",
        "\n",
        "orange =  base.mark_line(color='orange').encode(\n",
        "    y='OrangeRevenue'\n",
        ")\n",
        "\n",
        "lemon =  base.mark_line(color='green').encode(\n",
        "    y='LemonRevenue'\n",
        ")\n",
        "\n",
        "(orange + lemon).properties(\n",
        "    title=\"Lucro de Orange sobre o tempo\"\n",
        ")"
      ],
      "execution_count": 26,
      "outputs": [
        {
          "output_type": "execute_result",
          "data": {
            "text/plain": [
              "alt.LayerChart(...)"
            ],
            "text/html": [
              "<!DOCTYPE html>\n",
              "<html>\n",
              "<head>\n",
              "  <style>\n",
              "    .vega-actions a {\n",
              "        margin-right: 12px;\n",
              "        color: #757575;\n",
              "        font-weight: normal;\n",
              "        font-size: 13px;\n",
              "    }\n",
              "    .error {\n",
              "        color: red;\n",
              "    }\n",
              "  </style>\n",
              "  <script type=\"text/javascript\" src=\"https://cdn.jsdelivr.net/npm//vega@5\"></script>\n",
              "  <script type=\"text/javascript\" src=\"https://cdn.jsdelivr.net/npm//vega-lite@3.4.0\"></script>\n",
              "  <script type=\"text/javascript\" src=\"https://cdn.jsdelivr.net/npm//vega-embed@4\"></script>\n",
              "</head>\n",
              "<body>\n",
              "  <div id=\"altair-viz\"></div>\n",
              "  <script>\n",
              "    (function(vegaEmbed) {\n",
              "      var spec = {\"config\": {\"view\": {\"width\": 400, \"height\": 300}, \"mark\": {\"tooltip\": null}}, \"layer\": [{\"mark\": {\"type\": \"line\", \"color\": \"orange\"}, \"encoding\": {\"x\": {\"type\": \"temporal\", \"field\": \"Date\"}, \"y\": {\"type\": \"quantitative\", \"field\": \"OrangeRevenue\"}}}, {\"mark\": {\"type\": \"line\", \"color\": \"green\"}, \"encoding\": {\"x\": {\"type\": \"temporal\", \"field\": \"Date\"}, \"y\": {\"type\": \"quantitative\", \"field\": \"LemonRevenue\"}}}], \"data\": {\"name\": \"data-995cb9b3e8eae7d4d3133dd70fc463b4\"}, \"title\": \"Lucro de Orange sobre o tempo\", \"$schema\": \"https://vega.github.io/schema/vega-lite/v3.4.0.json\", \"datasets\": {\"data-995cb9b3e8eae7d4d3133dd70fc463b4\": [{\"Date\": \"2016-07-25T00:00:00\", \"Location\": \"Park\", \"Lemon\": 156, \"Orange\": 113, \"Temperature\": 84, \"Leaflets\": 135.0, \"Price\": 0.575, \"Sales\": 269, \"Revenue\": 134.5, \"Rank\": 30.5, \"LemonRevenue\": 89.69999999999999, \"OrangeRevenue\": 64.975}, {\"Date\": \"2016-07-12T00:00:00\", \"Location\": \"Beach\", \"Lemon\": 130, \"Orange\": 95, \"Temperature\": 84, \"Leaflets\": 99.0, \"Price\": 0.275, \"Sales\": 225, \"Revenue\": 56.25, \"Rank\": 30.5, \"LemonRevenue\": 35.75, \"OrangeRevenue\": 26.125000000000004}, {\"Date\": \"2016-07-26T00:00:00\", \"Location\": \"Park\", \"Lemon\": 176, \"Orange\": 129, \"Temperature\": 83, \"Leaflets\": 158.0, \"Price\": 0.40249999999999997, \"Sales\": 305, \"Revenue\": 106.75, \"Rank\": 28.5, \"LemonRevenue\": 70.83999999999999, \"OrangeRevenue\": 51.9225}, {\"Date\": \"2016-07-11T00:00:00\", \"Location\": \"Beach\", \"Lemon\": 162, \"Orange\": 120, \"Temperature\": 83, \"Leaflets\": 135.0, \"Price\": 0.275, \"Sales\": 282, \"Revenue\": 70.5, \"Rank\": 28.5, \"LemonRevenue\": 44.550000000000004, \"OrangeRevenue\": 33.0}, {\"Date\": \"2016-07-10T00:00:00\", \"Location\": \"Beach\", \"Lemon\": 140, \"Orange\": 98, \"Temperature\": 82, \"Leaflets\": 131.0, \"Price\": 0.275, \"Sales\": 238, \"Revenue\": 59.5, \"Rank\": 24.0, \"LemonRevenue\": 38.5, \"OrangeRevenue\": 26.950000000000003}, {\"Date\": \"2016-07-24T00:00:00\", \"Location\": \"Park\", \"Lemon\": 121, \"Orange\": 82, \"Temperature\": 82, \"Leaflets\": 117.0, \"Price\": 0.575, \"Sales\": 203, \"Revenue\": 101.5, \"Rank\": 24.0, \"LemonRevenue\": 69.57499999999999, \"OrangeRevenue\": 47.15}, {\"Date\": \"2016-07-28T00:00:00\", \"Location\": \"Park\", \"Lemon\": 96, \"Orange\": 63, \"Temperature\": 82, \"Leaflets\": 90.0, \"Price\": 0.40249999999999997, \"Sales\": 159, \"Revenue\": 55.65, \"Rank\": 24.0, \"LemonRevenue\": 38.64, \"OrangeRevenue\": 25.357499999999998}, {\"Date\": \"2016-07-31T00:00:00\", \"Location\": \"Beach\", \"Lemon\": 76, \"Orange\": 47, \"Temperature\": 82, \"Leaflets\": 68.0, \"Price\": 0.385, \"Sales\": 123, \"Revenue\": 43.05, \"Rank\": 24.0, \"LemonRevenue\": 29.26, \"OrangeRevenue\": 18.095}, {\"Date\": \"2016-07-08T00:00:00\", \"Location\": \"Beach\", \"Lemon\": 123, \"Orange\": 86, \"Temperature\": 82, \"Leaflets\": 113.0, \"Price\": 0.275, \"Sales\": 209, \"Revenue\": 52.25, \"Rank\": 24.0, \"LemonRevenue\": 33.825, \"OrangeRevenue\": 23.650000000000002}, {\"Date\": \"2016-07-06T00:00:00\", \"Location\": \"Beach\", \"Lemon\": 103, \"Orange\": 69, \"Temperature\": 82, \"Leaflets\": 90.0, \"Price\": 0.275, \"Sales\": 172, \"Revenue\": 43.0, \"Rank\": 24.0, \"LemonRevenue\": 28.325000000000003, \"OrangeRevenue\": 18.975}, {\"Date\": \"2016-07-30T00:00:00\", \"Location\": \"Beach\", \"Lemon\": 88, \"Orange\": 57, \"Temperature\": 82, \"Leaflets\": 81.0, \"Price\": 0.385, \"Sales\": 145, \"Revenue\": 50.75, \"Rank\": 24.0, \"LemonRevenue\": 33.88, \"OrangeRevenue\": 21.945}, {\"Date\": \"2016-07-18T00:00:00\", \"Location\": \"Park\", \"Lemon\": 131, \"Orange\": 92, \"Temperature\": 81, \"Leaflets\": 122.0, \"Price\": 0.575, \"Sales\": 223, \"Revenue\": 111.5, \"Rank\": 18.5, \"LemonRevenue\": 75.32499999999999, \"OrangeRevenue\": 52.9}, {\"Date\": \"2016-07-07T00:00:00\", \"Location\": \"Beach\", \"Lemon\": 143, \"Orange\": 101, \"Temperature\": 81, \"Leaflets\": 135.0, \"Price\": 0.275, \"Sales\": 244, \"Revenue\": 61.0, \"Rank\": 18.5, \"LemonRevenue\": 39.325, \"OrangeRevenue\": 27.775000000000002}, {\"Date\": \"2016-07-23T00:00:00\", \"Location\": \"Park\", \"Lemon\": 120, \"Orange\": 82, \"Temperature\": 81, \"Leaflets\": 117.0, \"Price\": 0.575, \"Sales\": 202, \"Revenue\": 101.0, \"Rank\": 18.5, \"LemonRevenue\": 69.0, \"OrangeRevenue\": 47.15}, {\"Date\": \"2016-07-29T00:00:00\", \"Location\": \"Park\", \"Lemon\": 100, \"Orange\": 66, \"Temperature\": 81, \"Leaflets\": 95.0, \"Price\": 0.40249999999999997, \"Sales\": 166, \"Revenue\": 58.099999999999994, \"Rank\": 18.5, \"LemonRevenue\": 40.25, \"OrangeRevenue\": 26.564999999999998}, {\"Date\": \"2016-07-22T00:00:00\", \"Location\": \"Park\", \"Lemon\": 112, \"Orange\": 75, \"Temperature\": 80, \"Leaflets\": 108.0, \"Price\": 0.575, \"Sales\": 187, \"Revenue\": 93.5, \"Rank\": 15.0, \"LemonRevenue\": 64.39999999999999, \"OrangeRevenue\": 43.125}, {\"Date\": \"2016-07-09T00:00:00\", \"Location\": \"Beach\", \"Lemon\": 134, \"Orange\": 95, \"Temperature\": 80, \"Leaflets\": 126.0, \"Price\": 0.275, \"Sales\": 229, \"Revenue\": 57.25, \"Rank\": 15.0, \"LemonRevenue\": 36.85, \"OrangeRevenue\": 26.125000000000004}, {\"Date\": \"2016-07-27T00:00:00\", \"Location\": \"Park\", \"Lemon\": 104, \"Orange\": 68, \"Temperature\": 80, \"Leaflets\": 99.0, \"Price\": 0.40249999999999997, \"Sales\": 172, \"Revenue\": 60.199999999999996, \"Rank\": 15.0, \"LemonRevenue\": 41.86, \"OrangeRevenue\": 27.369999999999997}, {\"Date\": \"2016-07-19T00:00:00\", \"Location\": \"Park\", \"Lemon\": 122, \"Orange\": 85, \"Temperature\": 78, \"Leaflets\": 113.0, \"Price\": 0.575, \"Sales\": 207, \"Revenue\": 103.5, \"Rank\": 12.0, \"LemonRevenue\": 70.14999999999999, \"OrangeRevenue\": 48.87499999999999}, {\"Date\": \"2016-07-05T00:00:00\", \"Location\": \"Beach\", \"Lemon\": 159, \"Orange\": 118, \"Temperature\": 78, \"Leaflets\": 135.0, \"Price\": 0.275, \"Sales\": 277, \"Revenue\": 69.25, \"Rank\": 12.0, \"LemonRevenue\": 43.725, \"OrangeRevenue\": 32.45}, {\"Date\": \"2016-07-14T00:00:00\", \"Location\": \"Beach\", \"Lemon\": 122, \"Orange\": 85, \"Temperature\": 78, \"Leaflets\": 113.0, \"Price\": 0.275, \"Sales\": 207, \"Revenue\": 51.75, \"Rank\": 12.0, \"LemonRevenue\": 33.550000000000004, \"OrangeRevenue\": 23.375000000000004}, {\"Date\": \"2016-07-17T00:00:00\", \"Location\": \"Beach\", \"Lemon\": 115, \"Orange\": 76, \"Temperature\": 77, \"Leaflets\": 126.0, \"Price\": 0.55, \"Sales\": 191, \"Revenue\": 95.5, \"Rank\": 9.0, \"LemonRevenue\": 63.25000000000001, \"OrangeRevenue\": 41.800000000000004}, {\"Date\": \"2016-07-21T00:00:00\", \"Location\": \"Park\", \"Lemon\": 83, \"Orange\": 50, \"Temperature\": 77, \"Leaflets\": 90.0, \"Price\": 0.575, \"Sales\": 133, \"Revenue\": 66.5, \"Rank\": 9.0, \"LemonRevenue\": 47.724999999999994, \"OrangeRevenue\": 28.749999999999996}, {\"Date\": \"2016-07-13T00:00:00\", \"Location\": \"Beach\", \"Lemon\": 109, \"Orange\": 75, \"Temperature\": 77, \"Leaflets\": 99.0, \"Price\": 0.275, \"Sales\": 184, \"Revenue\": 46.0, \"Rank\": 9.0, \"LemonRevenue\": 29.975, \"OrangeRevenue\": 20.625}, {\"Date\": \"2016-07-04T00:00:00\", \"Location\": \"Beach\", \"Lemon\": 134, \"Orange\": 99, \"Temperature\": 76, \"Leaflets\": 98.0, \"Price\": 0.275, \"Sales\": 233, \"Revenue\": 58.25, \"Rank\": 7.0, \"LemonRevenue\": 36.85, \"OrangeRevenue\": 27.225}, {\"Date\": \"2016-07-15T00:00:00\", \"Location\": \"Beach\", \"Lemon\": 98, \"Orange\": 62, \"Temperature\": 75, \"Leaflets\": 108.0, \"Price\": 0.55, \"Sales\": 160, \"Revenue\": 80.0, \"Rank\": 6.0, \"LemonRevenue\": 53.900000000000006, \"OrangeRevenue\": 34.1}, {\"Date\": \"2016-07-16T00:00:00\", \"Location\": \"Beach\", \"Lemon\": 81, \"Orange\": 50, \"Temperature\": 74, \"Leaflets\": 90.0, \"Price\": 0.55, \"Sales\": 131, \"Revenue\": 65.5, \"Rank\": 5.0, \"LemonRevenue\": 44.550000000000004, \"OrangeRevenue\": 27.500000000000004}, {\"Date\": \"2016-07-02T00:00:00\", \"Location\": \"Park\", \"Lemon\": 98, \"Orange\": 67, \"Temperature\": 72, \"Leaflets\": 90.0, \"Price\": 0.2875, \"Sales\": 165, \"Revenue\": 41.25, \"Rank\": 4.0, \"LemonRevenue\": 28.174999999999997, \"OrangeRevenue\": 19.2625}, {\"Date\": \"2016-07-03T00:00:00\", \"Location\": \"Park\", \"Lemon\": 110, \"Orange\": 77, \"Temperature\": 71, \"Leaflets\": 104.0, \"Price\": 0.2875, \"Sales\": 187, \"Revenue\": 46.75, \"Rank\": 3.0, \"LemonRevenue\": 31.624999999999996, \"OrangeRevenue\": 22.1375}, {\"Date\": \"2016-07-20T00:00:00\", \"Location\": \"Park\", \"Lemon\": 71, \"Orange\": 42, \"Temperature\": 70, \"Leaflets\": 109.16666666666667, \"Price\": 0.575, \"Sales\": 113, \"Revenue\": 56.5, \"Rank\": 1.5, \"LemonRevenue\": 40.824999999999996, \"OrangeRevenue\": 24.15}, {\"Date\": \"2016-07-01T00:00:00\", \"Location\": \"Park\", \"Lemon\": 97, \"Orange\": 67, \"Temperature\": 70, \"Leaflets\": 90.0, \"Price\": 0.2875, \"Sales\": 164, \"Revenue\": 41.0, \"Rank\": 1.5, \"LemonRevenue\": 27.8875, \"OrangeRevenue\": 19.2625}]}};\n",
              "      var embedOpt = {\"mode\": \"vega-lite\"};\n",
              "\n",
              "      function showError(el, error){\n",
              "          el.innerHTML = ('<div class=\"error\" style=\"color:red;\">'\n",
              "                          + '<p>JavaScript Error: ' + error.message + '</p>'\n",
              "                          + \"<p>This usually means there's a typo in your chart specification. \"\n",
              "                          + \"See the javascript console for the full traceback.</p>\"\n",
              "                          + '</div>');\n",
              "          throw error;\n",
              "      }\n",
              "      const el = document.getElementById('altair-viz');\n",
              "      vegaEmbed(\"#altair-viz\", spec, embedOpt)\n",
              "        .catch(error => showError(el, error));\n",
              "    })(vegaEmbed);\n",
              "\n",
              "  </script>\n",
              "</body>\n",
              "</html>"
            ]
          },
          "metadata": {
            "tags": []
          },
          "execution_count": 26
        }
      ]
    },
    {
      "cell_type": "markdown",
      "metadata": {
        "id": "8_GlF_AQ_Dzq",
        "colab_type": "text"
      },
      "source": [
        "**Observação:** Podemos observar que a venda de limão é maior que a de laranja, mas que a relação de venda entre as frutas são proporcionais, ou seja, quando a venda de limão aumenta, a venda de laranja aumenta com a mesma proporção."
      ]
    },
    {
      "cell_type": "markdown",
      "metadata": {
        "id": "BqzNTq7n2-xn",
        "colab_type": "text"
      },
      "source": [
        "#Exercício 14\n",
        "**Ajuste uma Regressão Linear aos dados para predizer vendas\n",
        "usando cada uma das features abaixo:**\n"
      ]
    },
    {
      "cell_type": "code",
      "metadata": {
        "id": "aG7IePZb3ekN",
        "colab_type": "code",
        "colab": {
          "base_uri": "https://localhost:8080/",
          "height": 368
        },
        "outputId": "ef44b9ec-7a6c-4d80-d6b4-2f41347d80e1"
      },
      "source": [
        " alt.Chart(lemonades).mark_circle(size=60).encode(\n",
        "        x='Temperature:Q',\n",
        "        y='Sales:Q'\n",
        "    )"
      ],
      "execution_count": 27,
      "outputs": [
        {
          "output_type": "execute_result",
          "data": {
            "text/plain": [
              "alt.Chart(...)"
            ],
            "text/html": [
              "<!DOCTYPE html>\n",
              "<html>\n",
              "<head>\n",
              "  <style>\n",
              "    .vega-actions a {\n",
              "        margin-right: 12px;\n",
              "        color: #757575;\n",
              "        font-weight: normal;\n",
              "        font-size: 13px;\n",
              "    }\n",
              "    .error {\n",
              "        color: red;\n",
              "    }\n",
              "  </style>\n",
              "  <script type=\"text/javascript\" src=\"https://cdn.jsdelivr.net/npm//vega@5\"></script>\n",
              "  <script type=\"text/javascript\" src=\"https://cdn.jsdelivr.net/npm//vega-lite@3.4.0\"></script>\n",
              "  <script type=\"text/javascript\" src=\"https://cdn.jsdelivr.net/npm//vega-embed@4\"></script>\n",
              "</head>\n",
              "<body>\n",
              "  <div id=\"altair-viz\"></div>\n",
              "  <script>\n",
              "    (function(vegaEmbed) {\n",
              "      var spec = {\"config\": {\"view\": {\"width\": 400, \"height\": 300}, \"mark\": {\"tooltip\": null}}, \"data\": {\"name\": \"data-995cb9b3e8eae7d4d3133dd70fc463b4\"}, \"mark\": {\"type\": \"circle\", \"size\": 60}, \"encoding\": {\"x\": {\"type\": \"quantitative\", \"field\": \"Temperature\"}, \"y\": {\"type\": \"quantitative\", \"field\": \"Sales\"}}, \"$schema\": \"https://vega.github.io/schema/vega-lite/v3.4.0.json\", \"datasets\": {\"data-995cb9b3e8eae7d4d3133dd70fc463b4\": [{\"Date\": \"2016-07-25T00:00:00\", \"Location\": \"Park\", \"Lemon\": 156, \"Orange\": 113, \"Temperature\": 84, \"Leaflets\": 135.0, \"Price\": 0.575, \"Sales\": 269, \"Revenue\": 134.5, \"Rank\": 30.5, \"LemonRevenue\": 89.69999999999999, \"OrangeRevenue\": 64.975}, {\"Date\": \"2016-07-12T00:00:00\", \"Location\": \"Beach\", \"Lemon\": 130, \"Orange\": 95, \"Temperature\": 84, \"Leaflets\": 99.0, \"Price\": 0.275, \"Sales\": 225, \"Revenue\": 56.25, \"Rank\": 30.5, \"LemonRevenue\": 35.75, \"OrangeRevenue\": 26.125000000000004}, {\"Date\": \"2016-07-26T00:00:00\", \"Location\": \"Park\", \"Lemon\": 176, \"Orange\": 129, \"Temperature\": 83, \"Leaflets\": 158.0, \"Price\": 0.40249999999999997, \"Sales\": 305, \"Revenue\": 106.75, \"Rank\": 28.5, \"LemonRevenue\": 70.83999999999999, \"OrangeRevenue\": 51.9225}, {\"Date\": \"2016-07-11T00:00:00\", \"Location\": \"Beach\", \"Lemon\": 162, \"Orange\": 120, \"Temperature\": 83, \"Leaflets\": 135.0, \"Price\": 0.275, \"Sales\": 282, \"Revenue\": 70.5, \"Rank\": 28.5, \"LemonRevenue\": 44.550000000000004, \"OrangeRevenue\": 33.0}, {\"Date\": \"2016-07-10T00:00:00\", \"Location\": \"Beach\", \"Lemon\": 140, \"Orange\": 98, \"Temperature\": 82, \"Leaflets\": 131.0, \"Price\": 0.275, \"Sales\": 238, \"Revenue\": 59.5, \"Rank\": 24.0, \"LemonRevenue\": 38.5, \"OrangeRevenue\": 26.950000000000003}, {\"Date\": \"2016-07-24T00:00:00\", \"Location\": \"Park\", \"Lemon\": 121, \"Orange\": 82, \"Temperature\": 82, \"Leaflets\": 117.0, \"Price\": 0.575, \"Sales\": 203, \"Revenue\": 101.5, \"Rank\": 24.0, \"LemonRevenue\": 69.57499999999999, \"OrangeRevenue\": 47.15}, {\"Date\": \"2016-07-28T00:00:00\", \"Location\": \"Park\", \"Lemon\": 96, \"Orange\": 63, \"Temperature\": 82, \"Leaflets\": 90.0, \"Price\": 0.40249999999999997, \"Sales\": 159, \"Revenue\": 55.65, \"Rank\": 24.0, \"LemonRevenue\": 38.64, \"OrangeRevenue\": 25.357499999999998}, {\"Date\": \"2016-07-31T00:00:00\", \"Location\": \"Beach\", \"Lemon\": 76, \"Orange\": 47, \"Temperature\": 82, \"Leaflets\": 68.0, \"Price\": 0.385, \"Sales\": 123, \"Revenue\": 43.05, \"Rank\": 24.0, \"LemonRevenue\": 29.26, \"OrangeRevenue\": 18.095}, {\"Date\": \"2016-07-08T00:00:00\", \"Location\": \"Beach\", \"Lemon\": 123, \"Orange\": 86, \"Temperature\": 82, \"Leaflets\": 113.0, \"Price\": 0.275, \"Sales\": 209, \"Revenue\": 52.25, \"Rank\": 24.0, \"LemonRevenue\": 33.825, \"OrangeRevenue\": 23.650000000000002}, {\"Date\": \"2016-07-06T00:00:00\", \"Location\": \"Beach\", \"Lemon\": 103, \"Orange\": 69, \"Temperature\": 82, \"Leaflets\": 90.0, \"Price\": 0.275, \"Sales\": 172, \"Revenue\": 43.0, \"Rank\": 24.0, \"LemonRevenue\": 28.325000000000003, \"OrangeRevenue\": 18.975}, {\"Date\": \"2016-07-30T00:00:00\", \"Location\": \"Beach\", \"Lemon\": 88, \"Orange\": 57, \"Temperature\": 82, \"Leaflets\": 81.0, \"Price\": 0.385, \"Sales\": 145, \"Revenue\": 50.75, \"Rank\": 24.0, \"LemonRevenue\": 33.88, \"OrangeRevenue\": 21.945}, {\"Date\": \"2016-07-18T00:00:00\", \"Location\": \"Park\", \"Lemon\": 131, \"Orange\": 92, \"Temperature\": 81, \"Leaflets\": 122.0, \"Price\": 0.575, \"Sales\": 223, \"Revenue\": 111.5, \"Rank\": 18.5, \"LemonRevenue\": 75.32499999999999, \"OrangeRevenue\": 52.9}, {\"Date\": \"2016-07-07T00:00:00\", \"Location\": \"Beach\", \"Lemon\": 143, \"Orange\": 101, \"Temperature\": 81, \"Leaflets\": 135.0, \"Price\": 0.275, \"Sales\": 244, \"Revenue\": 61.0, \"Rank\": 18.5, \"LemonRevenue\": 39.325, \"OrangeRevenue\": 27.775000000000002}, {\"Date\": \"2016-07-23T00:00:00\", \"Location\": \"Park\", \"Lemon\": 120, \"Orange\": 82, \"Temperature\": 81, \"Leaflets\": 117.0, \"Price\": 0.575, \"Sales\": 202, \"Revenue\": 101.0, \"Rank\": 18.5, \"LemonRevenue\": 69.0, \"OrangeRevenue\": 47.15}, {\"Date\": \"2016-07-29T00:00:00\", \"Location\": \"Park\", \"Lemon\": 100, \"Orange\": 66, \"Temperature\": 81, \"Leaflets\": 95.0, \"Price\": 0.40249999999999997, \"Sales\": 166, \"Revenue\": 58.099999999999994, \"Rank\": 18.5, \"LemonRevenue\": 40.25, \"OrangeRevenue\": 26.564999999999998}, {\"Date\": \"2016-07-22T00:00:00\", \"Location\": \"Park\", \"Lemon\": 112, \"Orange\": 75, \"Temperature\": 80, \"Leaflets\": 108.0, \"Price\": 0.575, \"Sales\": 187, \"Revenue\": 93.5, \"Rank\": 15.0, \"LemonRevenue\": 64.39999999999999, \"OrangeRevenue\": 43.125}, {\"Date\": \"2016-07-09T00:00:00\", \"Location\": \"Beach\", \"Lemon\": 134, \"Orange\": 95, \"Temperature\": 80, \"Leaflets\": 126.0, \"Price\": 0.275, \"Sales\": 229, \"Revenue\": 57.25, \"Rank\": 15.0, \"LemonRevenue\": 36.85, \"OrangeRevenue\": 26.125000000000004}, {\"Date\": \"2016-07-27T00:00:00\", \"Location\": \"Park\", \"Lemon\": 104, \"Orange\": 68, \"Temperature\": 80, \"Leaflets\": 99.0, \"Price\": 0.40249999999999997, \"Sales\": 172, \"Revenue\": 60.199999999999996, \"Rank\": 15.0, \"LemonRevenue\": 41.86, \"OrangeRevenue\": 27.369999999999997}, {\"Date\": \"2016-07-19T00:00:00\", \"Location\": \"Park\", \"Lemon\": 122, \"Orange\": 85, \"Temperature\": 78, \"Leaflets\": 113.0, \"Price\": 0.575, \"Sales\": 207, \"Revenue\": 103.5, \"Rank\": 12.0, \"LemonRevenue\": 70.14999999999999, \"OrangeRevenue\": 48.87499999999999}, {\"Date\": \"2016-07-05T00:00:00\", \"Location\": \"Beach\", \"Lemon\": 159, \"Orange\": 118, \"Temperature\": 78, \"Leaflets\": 135.0, \"Price\": 0.275, \"Sales\": 277, \"Revenue\": 69.25, \"Rank\": 12.0, \"LemonRevenue\": 43.725, \"OrangeRevenue\": 32.45}, {\"Date\": \"2016-07-14T00:00:00\", \"Location\": \"Beach\", \"Lemon\": 122, \"Orange\": 85, \"Temperature\": 78, \"Leaflets\": 113.0, \"Price\": 0.275, \"Sales\": 207, \"Revenue\": 51.75, \"Rank\": 12.0, \"LemonRevenue\": 33.550000000000004, \"OrangeRevenue\": 23.375000000000004}, {\"Date\": \"2016-07-17T00:00:00\", \"Location\": \"Beach\", \"Lemon\": 115, \"Orange\": 76, \"Temperature\": 77, \"Leaflets\": 126.0, \"Price\": 0.55, \"Sales\": 191, \"Revenue\": 95.5, \"Rank\": 9.0, \"LemonRevenue\": 63.25000000000001, \"OrangeRevenue\": 41.800000000000004}, {\"Date\": \"2016-07-21T00:00:00\", \"Location\": \"Park\", \"Lemon\": 83, \"Orange\": 50, \"Temperature\": 77, \"Leaflets\": 90.0, \"Price\": 0.575, \"Sales\": 133, \"Revenue\": 66.5, \"Rank\": 9.0, \"LemonRevenue\": 47.724999999999994, \"OrangeRevenue\": 28.749999999999996}, {\"Date\": \"2016-07-13T00:00:00\", \"Location\": \"Beach\", \"Lemon\": 109, \"Orange\": 75, \"Temperature\": 77, \"Leaflets\": 99.0, \"Price\": 0.275, \"Sales\": 184, \"Revenue\": 46.0, \"Rank\": 9.0, \"LemonRevenue\": 29.975, \"OrangeRevenue\": 20.625}, {\"Date\": \"2016-07-04T00:00:00\", \"Location\": \"Beach\", \"Lemon\": 134, \"Orange\": 99, \"Temperature\": 76, \"Leaflets\": 98.0, \"Price\": 0.275, \"Sales\": 233, \"Revenue\": 58.25, \"Rank\": 7.0, \"LemonRevenue\": 36.85, \"OrangeRevenue\": 27.225}, {\"Date\": \"2016-07-15T00:00:00\", \"Location\": \"Beach\", \"Lemon\": 98, \"Orange\": 62, \"Temperature\": 75, \"Leaflets\": 108.0, \"Price\": 0.55, \"Sales\": 160, \"Revenue\": 80.0, \"Rank\": 6.0, \"LemonRevenue\": 53.900000000000006, \"OrangeRevenue\": 34.1}, {\"Date\": \"2016-07-16T00:00:00\", \"Location\": \"Beach\", \"Lemon\": 81, \"Orange\": 50, \"Temperature\": 74, \"Leaflets\": 90.0, \"Price\": 0.55, \"Sales\": 131, \"Revenue\": 65.5, \"Rank\": 5.0, \"LemonRevenue\": 44.550000000000004, \"OrangeRevenue\": 27.500000000000004}, {\"Date\": \"2016-07-02T00:00:00\", \"Location\": \"Park\", \"Lemon\": 98, \"Orange\": 67, \"Temperature\": 72, \"Leaflets\": 90.0, \"Price\": 0.2875, \"Sales\": 165, \"Revenue\": 41.25, \"Rank\": 4.0, \"LemonRevenue\": 28.174999999999997, \"OrangeRevenue\": 19.2625}, {\"Date\": \"2016-07-03T00:00:00\", \"Location\": \"Park\", \"Lemon\": 110, \"Orange\": 77, \"Temperature\": 71, \"Leaflets\": 104.0, \"Price\": 0.2875, \"Sales\": 187, \"Revenue\": 46.75, \"Rank\": 3.0, \"LemonRevenue\": 31.624999999999996, \"OrangeRevenue\": 22.1375}, {\"Date\": \"2016-07-20T00:00:00\", \"Location\": \"Park\", \"Lemon\": 71, \"Orange\": 42, \"Temperature\": 70, \"Leaflets\": 109.16666666666667, \"Price\": 0.575, \"Sales\": 113, \"Revenue\": 56.5, \"Rank\": 1.5, \"LemonRevenue\": 40.824999999999996, \"OrangeRevenue\": 24.15}, {\"Date\": \"2016-07-01T00:00:00\", \"Location\": \"Park\", \"Lemon\": 97, \"Orange\": 67, \"Temperature\": 70, \"Leaflets\": 90.0, \"Price\": 0.2875, \"Sales\": 164, \"Revenue\": 41.0, \"Rank\": 1.5, \"LemonRevenue\": 27.8875, \"OrangeRevenue\": 19.2625}]}};\n",
              "      var embedOpt = {\"mode\": \"vega-lite\"};\n",
              "\n",
              "      function showError(el, error){\n",
              "          el.innerHTML = ('<div class=\"error\" style=\"color:red;\">'\n",
              "                          + '<p>JavaScript Error: ' + error.message + '</p>'\n",
              "                          + \"<p>This usually means there's a typo in your chart specification. \"\n",
              "                          + \"See the javascript console for the full traceback.</p>\"\n",
              "                          + '</div>');\n",
              "          throw error;\n",
              "      }\n",
              "      const el = document.getElementById('altair-viz');\n",
              "      vegaEmbed(\"#altair-viz\", spec, embedOpt)\n",
              "        .catch(error => showError(el, error));\n",
              "    })(vegaEmbed);\n",
              "\n",
              "  </script>\n",
              "</body>\n",
              "</html>"
            ]
          },
          "metadata": {
            "tags": []
          },
          "execution_count": 27
        }
      ]
    },
    {
      "cell_type": "markdown",
      "metadata": {
        "id": "uxMaYac13nnk",
        "colab_type": "text"
      },
      "source": [
        "**Observação:** A maior ocorrência de vendas acontece quando a temperatura está próxima dos 80 Graus Fahrenheit (F), valor equivalente a 27 graus Celsius."
      ]
    },
    {
      "cell_type": "markdown",
      "metadata": {
        "id": "n_qn3aeGDA4u",
        "colab_type": "text"
      },
      "source": [
        "**Temperature**"
      ]
    },
    {
      "cell_type": "code",
      "metadata": {
        "id": "1fXYYpr4Chev",
        "colab_type": "code",
        "colab": {
          "base_uri": "https://localhost:8080/",
          "height": 317
        },
        "outputId": "d79ed0a4-342c-4a44-a306-38516286dd52"
      },
      "source": [
        "temperature_linearRegression = LinearRegression()\n",
        "temperature =  np.array(lemonades['Temperature']).reshape(len(lemonades['Temperature']), 1)\n",
        "sales = np.array(lemonades['Sales']).reshape(len(lemonades['Sales']), 1)\n",
        "\n",
        "X_train_temp, X_test_temp, y_train_temp, y_test_temp = train_test_split(temperature, sales, test_size=0.3, random_state=42)\n",
        "temperature_linearRegression.fit(X_train_temp, y_train_temp)\n",
        "\n",
        "temperature_predict = temperature_linearRegression.predict(X_train_temp)\n",
        "\n",
        "temperature_score = temperature_linearRegression.score(X_test_temp, y_test_temp)\n",
        "temperature_mse = mean_squared_error(temperature_predict, y_train_temp)\n",
        "\n",
        "print(f'Score: {temperature_score * 100 :.2f}% \\n Mean Squared Error: {temperature_mse :.2f}')\n",
        "\n",
        "plt.scatter(X_train_temp, y_train_temp, c='g')\n",
        "plt.plot(X_train_temp, temperature_predict)\n",
        "plt.xlabel('Temperature')\n",
        "plt.ylabel('Sales')\n",
        "plt.show()"
      ],
      "execution_count": 28,
      "outputs": [
        {
          "output_type": "stream",
          "text": [
            "Score: 42.30% \n",
            " Mean Squared Error: 2106.87\n"
          ],
          "name": "stdout"
        },
        {
          "output_type": "display_data",
          "data": {
            "image/png": "[encoded data removed]",
            "text/plain": [
              "<Figure size 432x288 with 1 Axes>"
            ]
          },
          "metadata": {
            "tags": []
          }
        }
      ]
    },
    {
      "cell_type": "markdown",
      "metadata": {
        "id": "t6mkkQlxFnsn",
        "colab_type": "text"
      },
      "source": [
        "**Leaflets**"
      ]
    },
    {
      "cell_type": "code",
      "metadata": {
        "id": "zhumlH1gFmNX",
        "colab_type": "code",
        "colab": {
          "base_uri": "https://localhost:8080/",
          "height": 317
        },
        "outputId": "fa4f5659-ce28-408b-bf2b-3480d6d78537"
      },
      "source": [
        "leaflets_linearRegression = LinearRegression()\n",
        "leaflets =  np.array(lemonades['Leaflets']).reshape(len(lemonades['Leaflets']), 1)\n",
        "sales = np.array(lemonades['Sales']).reshape(len(lemonades['Sales']), 1)\n",
        "\n",
        "X_train_temp, X_test_temp, y_train_temp, y_test_temp = train_test_split(leaflets, sales, test_size=0.3, random_state=42)\n",
        "leaflets_linearRegression.fit(X_train_temp, y_train_temp)\n",
        "\n",
        "leaflets_predict = leaflets_linearRegression.predict(X_train_temp)\n",
        "\n",
        "leaflets_score = leaflets_linearRegression.score(X_test_temp, y_test_temp)\n",
        "leaflets_mse = mean_squared_error(leaflets_predict, y_train_temp)\n",
        "\n",
        "print(f'Score: {leaflets_score * 100 :.2f}% \\n Mean Squared Error: {leaflets_mse :.2f}')\n",
        "\n",
        "plt.scatter(X_train_temp, y_train_temp, c='r')\n",
        "plt.plot(X_train_temp, leaflets_predict)\n",
        "plt.xlabel('Leaflets')\n",
        "plt.ylabel('Sales')\n",
        "plt.show()"
      ],
      "execution_count": 29,
      "outputs": [
        {
          "output_type": "stream",
          "text": [
            "Score: 37.49% \n",
            " Mean Squared Error: 416.00\n"
          ],
          "name": "stdout"
        },
        {
          "output_type": "display_data",
          "data": {
            "image/png": "[encoded data removed]",
            "text/plain": [
              "<Figure size 432x288 with 1 Axes>"
            ]
          },
          "metadata": {
            "tags": []
          }
        }
      ]
    },
    {
      "cell_type": "markdown",
      "metadata": {
        "id": "rB25f9gmGQYA",
        "colab_type": "text"
      },
      "source": [
        "**Price**"
      ]
    },
    {
      "cell_type": "code",
      "metadata": {
        "id": "SyaZaGikGQih",
        "colab_type": "code",
        "colab": {
          "base_uri": "https://localhost:8080/",
          "height": 317
        },
        "outputId": "68d700dc-ed0b-4e47-a242-1a9d4583bd84"
      },
      "source": [
        "price_linearRegression = LinearRegression()\n",
        "price = np.array(lemonades['Price']).reshape(len(lemonades['Price']), 1)\n",
        "sales = np.array(lemonades['Sales']).reshape(len(lemonades['Sales']), 1)\n",
        "\n",
        "X_train_temp, X_test_temp, y_train_temp, y_test_temp = train_test_split(price, sales, test_size=0.3, random_state=42)\n",
        "price_linearRegression.fit(X_train_temp, y_train_temp)\n",
        "\n",
        "price_predict = price_linearRegression.predict(X_train_temp)\n",
        "\n",
        "price_score = price_linearRegression.score(X_test_temp, y_test_temp)\n",
        "price_mse = mean_squared_error(price_predict, y_train_temp)\n",
        "\n",
        "print(f'Score: {price_score * 100 :.2f}% \\n Mean Squared Error: {price_mse :.2f}')\n",
        "\n",
        "plt.scatter(X_train_temp, y_train_temp, c='y')\n",
        "plt.plot(X_train_temp, price_predict)\n",
        "plt.xlabel('Price')\n",
        "plt.ylabel('Sales')\n",
        "plt.show()"
      ],
      "execution_count": 30,
      "outputs": [
        {
          "output_type": "stream",
          "text": [
            "Score: -10.96% \n",
            " Mean Squared Error: 2126.00\n"
          ],
          "name": "stdout"
        },
        {
          "output_type": "display_data",
          "data": {
            "image/png": "[encoded data removed]",
            "text/plain": [
              "<Figure size 432x288 with 1 Axes>"
            ]
          },
          "metadata": {
            "tags": []
          }
        }
      ]
    },
    {
      "cell_type": "markdown",
      "metadata": {
        "id": "RD4o0EOf6bNU",
        "colab_type": "text"
      },
      "source": [
        "# Exercício 15\n",
        "\n",
        "**Ajuste uma Regressão Linear aos dados para predizer vendas\n",
        "usando as três features juntas. Comente o resultado obtido.**"
      ]
    },
    {
      "cell_type": "code",
      "metadata": {
        "id": "EDJQghEi6hFf",
        "colab_type": "code",
        "colab": {}
      },
      "source": [
        "feature_col = ['Price','Leaflets','Temperature']\n",
        "meta_col = ['Sales']\n",
        "\n",
        "X = lemonades[feature_col].values\n",
        "y = lemonades[meta_col].values\n",
        "split_test_size = 0.30"
      ],
      "execution_count": 0,
      "outputs": []
    },
    {
      "cell_type": "code",
      "metadata": {
        "id": "plBcjc9R6t7R",
        "colab_type": "code",
        "colab": {}
      },
      "source": [
        "X_train, X_test, y_train, y_test = train_test_split(X, y, test_size=split_test_size, random_state=42)"
      ],
      "execution_count": 0,
      "outputs": []
    },
    {
      "cell_type": "code",
      "metadata": {
        "id": "M1SQUP6h6vDG",
        "colab_type": "code",
        "outputId": "bf185498-aee2-4a1a-a66e-eb2d1f231b6b",
        "colab": {
          "base_uri": "https://localhost:8080/",
          "height": 34
        }
      },
      "source": [
        "lr_model = linear_model.LinearRegression()\n",
        "lr_model.fit(X_train, y_train.ravel()) # flatten arrays"
      ],
      "execution_count": 33,
      "outputs": [
        {
          "output_type": "execute_result",
          "data": {
            "text/plain": [
              "LinearRegression(copy_X=True, fit_intercept=True, n_jobs=None, normalize=False)"
            ]
          },
          "metadata": {
            "tags": []
          },
          "execution_count": 33
        }
      ]
    },
    {
      "cell_type": "code",
      "metadata": {
        "id": "G63HhCDx6yNq",
        "colab_type": "code",
        "outputId": "55833ae9-9471-45da-bf75-55100b2a3af9",
        "colab": {
          "base_uri": "https://localhost:8080/",
          "height": 68
        }
      },
      "source": [
        "y_pred = lr_model.predict(X_test)\n",
        "y_pred"
      ],
      "execution_count": 34,
      "outputs": [
        {
          "output_type": "execute_result",
          "data": {
            "text/plain": [
              "array([157.02064783, 178.97504964, 186.92128821, 179.63088137,\n",
              "       225.4108586 , 179.72401673, 159.93212138, 182.79886611,\n",
              "       266.97527837, 241.15157993])"
            ]
          },
          "metadata": {
            "tags": []
          },
          "execution_count": 34
        }
      ]
    },
    {
      "cell_type": "code",
      "metadata": {
        "id": "P-9RPNRJ60RW",
        "colab_type": "code",
        "colab": {
          "base_uri": "https://localhost:8080/",
          "height": 187
        },
        "outputId": "5eaa9177-349a-4ba0-f338-180bf26106ec"
      },
      "source": [
        "y_test"
      ],
      "execution_count": 35,
      "outputs": [
        {
          "output_type": "execute_result",
          "data": {
            "text/plain": [
              "array([[165],\n",
              "       [187],\n",
              "       [184],\n",
              "       [172],\n",
              "       [209],\n",
              "       [172],\n",
              "       [113],\n",
              "       [233],\n",
              "       [244],\n",
              "       [269]])"
            ]
          },
          "metadata": {
            "tags": []
          },
          "execution_count": 35
        }
      ]
    },
    {
      "cell_type": "code",
      "metadata": {
        "id": "1TeTStEh61i4",
        "colab_type": "code",
        "outputId": "0468f980-9441-4a9f-9ae7-dfcf2eac3511",
        "colab": {
          "base_uri": "https://localhost:8080/",
          "height": 34
        }
      },
      "source": [
        "mean_squared_error(y_test,y_pred)"
      ],
      "execution_count": 36,
      "outputs": [
        {
          "output_type": "execute_result",
          "data": {
            "text/plain": [
              "654.9986657390332"
            ]
          },
          "metadata": {
            "tags": []
          },
          "execution_count": 36
        }
      ]
    },
    {
      "cell_type": "markdown",
      "metadata": {
        "id": "bL0nWdf166-o",
        "colab_type": "text"
      },
      "source": [
        "**Observação:** Foi escolhido preço, folhetos e temperatura como variáveis para predição das vendas pois conforme as análises feitas anteriormente são as variáveis que possuem melhor correlação.   \n",
        "Dos dados fornecidos, separamos 30% para teste da regressão linear.  \n",
        "Embora o erro esteja alto, os valores são pouco próximos aos valores reais"
      ]
    },
    {
      "cell_type": "markdown",
      "metadata": {
        "id": "1553UO3E7J_2",
        "colab_type": "text"
      },
      "source": [
        "# Exercício 16\n",
        "\n",
        "**Generalize o algoritmo de Regressão Linear implementada em sala\n",
        "para que ele possa ser usado para regressão multivariada.**"
      ]
    },
    {
      "cell_type": "code",
      "metadata": {
        "id": "pwJoFOop7YDO",
        "colab_type": "code",
        "colab": {}
      },
      "source": [
        "class LinearRegressionGeneralized():\n",
        "    \n",
        "    def cost_function(self,X,y,theta):\n",
        "        m = len(y)\n",
        "        J = 0 \n",
        "        J = J + np.power(((X @ theta.T) - y), 2)\n",
        "        return np.sum(J) / (2 * len(X))\n",
        "\n",
        "    def gradient_descent(self,X,y,theta,alpha,num_iter):\n",
        "        m = len(y)\n",
        "        J_history = np.zeros(num_iter)\n",
        "\n",
        "        for k in range(num_iter):\n",
        "          theta = theta - (alpha / len(X)) * np.sum((X @ theta.T - y) * X, axis=0)\n",
        "\n",
        "          J_history[k] = self.cost_function(X, y, theta)\n",
        "    \n",
        "        return theta,J_history"
      ],
      "execution_count": 0,
      "outputs": []
    },
    {
      "cell_type": "markdown",
      "metadata": {
        "id": "x4ZwXv71IxdW",
        "colab_type": "text"
      },
      "source": [
        "# Exercício 17\n",
        "**Aplique o algoritmo implementado na questão 16 no conjunto de\n",
        "dados consumo_cerveja.csv usando as mesmas features para\n",
        "treinamento.**\n",
        "1.   Compare os resultados que você obteve com os resultados obtidos através da Scikit Learning.\n",
        "2.   Prediga o consumo usando seu modelo e o modelo da sklearn.\n",
        "3.   Calcule o MSE de ambos"
      ]
    },
    {
      "cell_type": "code",
      "metadata": {
        "id": "50cV38tuIvFK",
        "colab_type": "code",
        "outputId": "ac6b4c50-9513-4828-a713-8b9a8e650bab",
        "colab": {
          "resources": {
            "http://localhost:8080/nbextensions/google.colab/files.js": {
              "data": "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",
              "ok": true,
              "headers": [
                [
                  "content-type",
                  "application/javascript"
                ]
              ],
              "status": 200,
              "status_text": ""
            }
          },
          "base_uri": "https://localhost:8080/",
          "height": 91
        }
      },
      "source": [
        "#Lendo arquivo no Google Colab\n",
        "from google.colab import files\n",
        "\n",
        "uploaded = files.upload()\n",
        "\n",
        "for fn in uploaded.keys():\n",
        "  print('User uploaded file \"{name}\" with length {length} bytes'.format(name=fn, length=len(uploaded[fn])))\n",
        "  \n",
        "cerveja = pd.read_csv('consumo_cerveja.csv', sep=';')"
      ],
      "execution_count": 52,
      "outputs": [
        {
          "output_type": "display_data",
          "data": {
            "text/html": [
              "\n",
              "     <input type=\"file\" id=\"files-9d6fdc6e-121d-4ba6-8a79-84a226fcc7ae\" name=\"files[]\" multiple disabled />\n",
              "     <output id=\"result-9d6fdc6e-121d-4ba6-8a79-84a226fcc7ae\">\n",
              "      Upload widget is only available when the cell has been executed in the\n",
              "      current browser session. Please rerun this cell to enable.\n",
              "      </output>\n",
              "      <script src=\"/nbextensions/google.colab/files.js\"></script> "
            ],
            "text/plain": [
              "<IPython.core.display.HTML object>"
            ]
          },
          "metadata": {
            "tags": []
          }
        },
        {
          "output_type": "stream",
          "text": [
            "Saving consumo_cerveja.csv to consumo_cerveja (7).csv\n",
            "User uploaded file \"consumo_cerveja.csv\" with length 14436 bytes\n"
          ],
          "name": "stdout"
        }
      ]
    },
    {
      "cell_type": "code",
      "metadata": {
        "id": "HgXcH3fYJOHZ",
        "colab_type": "code",
        "colab": {
          "base_uri": "https://localhost:8080/",
          "height": 204
        },
        "outputId": "80f64b79-bd2d-4832-ba8b-e58b325c885f"
      },
      "source": [
        "cerveja.columns = ['Data','TemperaturaMedia','TemperaturaMinima','TemperaturaMaxima','Precipitacao','FinalDeSemana','ConsumoCerveja']\n",
        "cerveja.head()"
      ],
      "execution_count": 53,
      "outputs": [
        {
          "output_type": "execute_result",
          "data": {
            "text/html": [
              "<div>\n",
              "<style scoped>\n",
              "    .dataframe tbody tr th:only-of-type {\n",
              "        vertical-align: middle;\n",
              "    }\n",
              "\n",
              "    .dataframe tbody tr th {\n",
              "        vertical-align: top;\n",
              "    }\n",
              "\n",
              "    .dataframe thead th {\n",
              "        text-align: right;\n",
              "    }\n",
              "</style>\n",
              "<table border=\"1\" class=\"dataframe\">\n",
              "  <thead>\n",
              "    <tr style=\"text-align: right;\">\n",
              "      <th></th>\n",
              "      <th>Data</th>\n",
              "      <th>TemperaturaMedia</th>\n",
              "      <th>TemperaturaMinima</th>\n",
              "      <th>TemperaturaMaxima</th>\n",
              "      <th>Precipitacao</th>\n",
              "      <th>FinalDeSemana</th>\n",
              "      <th>ConsumoCerveja</th>\n",
              "    </tr>\n",
              "  </thead>\n",
              "  <tbody>\n",
              "    <tr>\n",
              "      <th>0</th>\n",
              "      <td>01/01/2015</td>\n",
              "      <td>27.30</td>\n",
              "      <td>23.9</td>\n",
              "      <td>32.5</td>\n",
              "      <td>0.0</td>\n",
              "      <td>0</td>\n",
              "      <td>25.461</td>\n",
              "    </tr>\n",
              "    <tr>\n",
              "      <th>1</th>\n",
              "      <td>02/01/2015</td>\n",
              "      <td>27.02</td>\n",
              "      <td>24.5</td>\n",
              "      <td>33.5</td>\n",
              "      <td>0.0</td>\n",
              "      <td>0</td>\n",
              "      <td>28.972</td>\n",
              "    </tr>\n",
              "    <tr>\n",
              "      <th>2</th>\n",
              "      <td>03/01/2015</td>\n",
              "      <td>24.82</td>\n",
              "      <td>22.4</td>\n",
              "      <td>29.9</td>\n",
              "      <td>0.0</td>\n",
              "      <td>1</td>\n",
              "      <td>30.814</td>\n",
              "    </tr>\n",
              "    <tr>\n",
              "      <th>3</th>\n",
              "      <td>04/01/2015</td>\n",
              "      <td>23.98</td>\n",
              "      <td>21.5</td>\n",
              "      <td>28.6</td>\n",
              "      <td>1.2</td>\n",
              "      <td>1</td>\n",
              "      <td>29.799</td>\n",
              "    </tr>\n",
              "    <tr>\n",
              "      <th>4</th>\n",
              "      <td>05/01/2015</td>\n",
              "      <td>23.82</td>\n",
              "      <td>21.0</td>\n",
              "      <td>28.3</td>\n",
              "      <td>0.0</td>\n",
              "      <td>0</td>\n",
              "      <td>28.900</td>\n",
              "    </tr>\n",
              "  </tbody>\n",
              "</table>\n",
              "</div>"
            ],
            "text/plain": [
              "         Data  TemperaturaMedia  ...  FinalDeSemana  ConsumoCerveja\n",
              "0  01/01/2015             27.30  ...              0          25.461\n",
              "1  02/01/2015             27.02  ...              0          28.972\n",
              "2  03/01/2015             24.82  ...              1          30.814\n",
              "3  04/01/2015             23.98  ...              1          29.799\n",
              "4  05/01/2015             23.82  ...              0          28.900\n",
              "\n",
              "[5 rows x 7 columns]"
            ]
          },
          "metadata": {
            "tags": []
          },
          "execution_count": 53
        }
      ]
    },
    {
      "cell_type": "code",
      "metadata": {
        "id": "pmdgjJbyJo2n",
        "colab_type": "code",
        "outputId": "eba7ec2f-5070-4d61-a7b8-53051848b162",
        "colab": {
          "base_uri": "https://localhost:8080/",
          "height": 153
        }
      },
      "source": [
        "cerveja.isna().sum()"
      ],
      "execution_count": 54,
      "outputs": [
        {
          "output_type": "execute_result",
          "data": {
            "text/plain": [
              "Data                 0\n",
              "TemperaturaMedia     0\n",
              "TemperaturaMinima    0\n",
              "TemperaturaMaxima    0\n",
              "Precipitacao         0\n",
              "FinalDeSemana        0\n",
              "ConsumoCerveja       0\n",
              "dtype: int64"
            ]
          },
          "metadata": {
            "tags": []
          },
          "execution_count": 54
        }
      ]
    },
    {
      "cell_type": "code",
      "metadata": {
        "id": "RzUkMIucJrWS",
        "colab_type": "code",
        "colab": {}
      },
      "source": [
        "feature_col = cerveja[['TemperaturaMedia','TemperaturaMinima','TemperaturaMaxima','Precipitacao','FinalDeSemana']]\n",
        "\n",
        "ones = np.ones([feature_col.shape[0], 1]) \n",
        "\n",
        "x = np.concatenate((ones, feature_col), 1)\n",
        "y = cerveja.iloc[:, 6:7].values\n",
        "\n",
        "x_train, x_test, y_train, y_test = train_test_split(x, y, test_size=0.3, random_state=42)"
      ],
      "execution_count": 0,
      "outputs": []
    },
    {
      "cell_type": "code",
      "metadata": {
        "id": "beBnEkgH6btR",
        "colab_type": "code",
        "colab": {
          "base_uri": "https://localhost:8080/",
          "height": 34
        },
        "outputId": "223736df-6440-4956-c33f-5923b979d429"
      },
      "source": [
        "alpha = 0.001\n",
        "iterations = 1500\n",
        "\n",
        "theta = np.zeros([1,6]).reshape(1, -1) # criacao do theta\n",
        "theta"
      ],
      "execution_count": 56,
      "outputs": [
        {
          "output_type": "execute_result",
          "data": {
            "text/plain": [
              "array([[0., 0., 0., 0., 0., 0.]])"
            ]
          },
          "metadata": {
            "tags": []
          },
          "execution_count": 56
        }
      ]
    },
    {
      "cell_type": "code",
      "metadata": {
        "id": "ceCj6n9Q6iq9",
        "colab_type": "code",
        "colab": {}
      },
      "source": [
        "linear_regression = LinearRegressionGeneralized()"
      ],
      "execution_count": 0,
      "outputs": []
    },
    {
      "cell_type": "code",
      "metadata": {
        "id": "MIwJXYhU6j9m",
        "colab_type": "code",
        "colab": {
          "base_uri": "https://localhost:8080/",
          "height": 34
        },
        "outputId": "64c7230c-1670-4cb5-ee29-b04eb871ef7b"
      },
      "source": [
        "cost = linear_regression.cost_function(x_train, y_train, theta)\n",
        "print(f'Custo: Dados não-normalizados: {cost}')"
      ],
      "execution_count": 58,
      "outputs": [
        {
          "output_type": "stream",
          "text": [
            "Custo: Dados não-normalizados: 325.28813059411766\n"
          ],
          "name": "stdout"
        }
      ]
    },
    {
      "cell_type": "code",
      "metadata": {
        "id": "XBsrxcNR6r7O",
        "colab_type": "code",
        "colab": {
          "base_uri": "https://localhost:8080/",
          "height": 51
        },
        "outputId": "154f5b7b-5c5e-400c-8f30-b6ac20e19972"
      },
      "source": [
        "%time theta_lr, cost_lr = linear_regression.gradient_descent(x_train, y_train, theta, alpha, iterations)"
      ],
      "execution_count": 59,
      "outputs": [
        {
          "output_type": "stream",
          "text": [
            "CPU times: user 55.9 ms, sys: 512 µs, total: 56.4 ms\n",
            "Wall time: 58.3 ms\n"
          ],
          "name": "stdout"
        }
      ]
    },
    {
      "cell_type": "code",
      "metadata": {
        "id": "onqXgoq36tTO",
        "colab_type": "code",
        "colab": {
          "base_uri": "https://localhost:8080/",
          "height": 34
        },
        "outputId": "b9d81416-dcef-4a00-ffb8-ee63f9d67d50"
      },
      "source": [
        "new_cost = linear_regression.cost_function(x_train, y_train, theta_lr)\n",
        "print(f'Custo: Dados não-normalizados: {new_cost}')"
      ],
      "execution_count": 60,
      "outputs": [
        {
          "output_type": "stream",
          "text": [
            "Custo: Dados não-normalizados: 4.857890772209221\n"
          ],
          "name": "stdout"
        }
      ]
    },
    {
      "cell_type": "markdown",
      "metadata": {
        "id": "l-1fjnHK64TH",
        "colab_type": "text"
      },
      "source": [
        "**Scikit Learning**"
      ]
    },
    {
      "cell_type": "code",
      "metadata": {
        "id": "pQQdScNj60jG",
        "colab_type": "code",
        "colab": {}
      },
      "source": [
        "from sklearn.linear_model import SGDRegressor\n",
        "gd_reg = SGDRegressor(loss='squared_loss', alpha=alpha, max_iter=iterations, random_state=66)"
      ],
      "execution_count": 0,
      "outputs": []
    },
    {
      "cell_type": "code",
      "metadata": {
        "id": "spfSPo1n7ALC",
        "colab_type": "code",
        "colab": {}
      },
      "source": [
        "x = cerveja[['TemperaturaMedia','TemperaturaMinima','TemperaturaMaxima','Precipitacao','FinalDeSemana']]\n",
        "y = cerveja['ConsumoCerveja']"
      ],
      "execution_count": 0,
      "outputs": []
    },
    {
      "cell_type": "code",
      "metadata": {
        "id": "oGlZsKDz7Njm",
        "colab_type": "code",
        "colab": {}
      },
      "source": [
        "from sklearn.model_selection import train_test_split\n",
        "x_train, x_test, y_train, y_test = train_test_split(x, y, test_size=0.3, random_state=88)"
      ],
      "execution_count": 0,
      "outputs": []
    },
    {
      "cell_type": "code",
      "metadata": {
        "id": "V0NMcjym7PDu",
        "colab_type": "code",
        "colab": {
          "base_uri": "https://localhost:8080/",
          "height": 34
        },
        "outputId": "a5e32882-536e-40ba-dd15-125ff59f5a86"
      },
      "source": [
        "gd_reg.fit(x_train, y_train)\n",
        "gd_predict = gd_reg.predict(x_test)\n",
        "gd_reg.score(x_test, y_test)"
      ],
      "execution_count": 64,
      "outputs": [
        {
          "output_type": "execute_result",
          "data": {
            "text/plain": [
              "-1.9878592178784804e+23"
            ]
          },
          "metadata": {
            "tags": []
          },
          "execution_count": 64
        }
      ]
    },
    {
      "cell_type": "code",
      "metadata": {
        "id": "N7ybA_TO7WIv",
        "colab_type": "code",
        "colab": {
          "base_uri": "https://localhost:8080/",
          "height": 34
        },
        "outputId": "f448a86d-67e2-42bc-e336-3f1dfa52a03c"
      },
      "source": [
        "mean_squared_error(gd_predict, y_test)"
      ],
      "execution_count": 65,
      "outputs": [
        {
          "output_type": "execute_result",
          "data": {
            "text/plain": [
              "4.083573191717276e+24"
            ]
          },
          "metadata": {
            "tags": []
          },
          "execution_count": 65
        }
      ]
    },
    {
      "cell_type": "markdown",
      "metadata": {
        "id": "Ye7LZFVN6cYI",
        "colab_type": "text"
      },
      "source": [
        "**Observação:** Quanto maior a iteração com o alpha 0.01 o modelo implementado manualmente tende a se aproximar do resultado obtido pelo scikit learn. Porém, com um custo muito maior de processamento. "
      ]
    }
  ]
}